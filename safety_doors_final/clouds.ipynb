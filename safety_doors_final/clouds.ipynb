{
 "metadata": {
  "orig_nbformat": 2,
  "kernelspec": {
   "name": "python3",
   "display_name": "Python 3",
   "language": "python"
  }
 },
 "nbformat": 4,
 "nbformat_minor": 2,
 "cells": [
  {
   "cell_type": "code",
   "execution_count": 1,
   "metadata": {},
   "outputs": [],
   "source": [
    "# https://github.com/intel-isl/Open3D-ML\n",
    "# http://www.open3d.org/docs/release/tutorial/geometry/\n",
    "# https://analyticsindiamag.com/guide-to-open3d-an-open-source-modern-library-for-3d-data-processing/\n",
    "# https://api-2d3d-cad.com/mesh/"
   ]
  },
  {
   "cell_type": "code",
   "execution_count": 5,
   "metadata": {},
   "outputs": [],
   "source": [
    "import open3d as o3d\n",
    "import numpy as np\n",
    "import matplotlib.pyplot as plt\n",
    "import copy\n",
    "import os\n",
    "import sys\n",
    "\n",
    "lol = ''\n",
    "\n",
    "clouds_path = ''\n",
    "test_cloud_name = 'cloud_2_1620665787167437.pcd'\n",
    "test_cloud_path = os.path.join(clouds_path, test_cloud_name)\n",
    "test_cloud_path2 = os.path.join(clouds_path, 'cloud_2_1620725866961481.pcd')"
   ]
  },
  {
   "cell_type": "code",
   "execution_count": 3,
   "metadata": {},
   "outputs": [],
   "source": [
    "o3d.visualization.draw_geometries([o3d.io.read_point_cloud(lol)])"
   ]
  },
  {
   "cell_type": "code",
   "execution_count": 4,
   "metadata": {},
   "outputs": [],
   "source": [
    "test_cloud = o3d.io.read_point_cloud(test_cloud_path)"
   ]
  },
  {
   "cell_type": "code",
   "execution_count": 5,
   "metadata": {},
   "outputs": [
    {
     "output_type": "stream",
     "name": "stdout",
     "text": [
      "(610227, 3)\n"
     ]
    }
   ],
   "source": [
    "type(test_cloud)\n",
    "print(np.asarray(test_cloud.points).shape)\n",
    "o3d.visualization.draw_geometries([test_cloud])"
   ]
  },
  {
   "cell_type": "code",
   "execution_count": 6,
   "metadata": {},
   "outputs": [
    {
     "output_type": "stream",
     "name": "stdout",
     "text": [
      "Downsample the point cloud with a voxel of 0.05\n"
     ]
    }
   ],
   "source": [
    "print(\"Downsample the point cloud with a voxel of 0.05\")\n",
    "downpcd = test_cloud.voxel_down_sample(voxel_size=0.02)\n",
    "# pcd.uniform_down_sample(every_k_points=5)\n",
    "o3d.visualization.draw_geometries([downpcd])"
   ]
  },
  {
   "cell_type": "code",
   "execution_count": 7,
   "metadata": {},
   "outputs": [],
   "source": [
    "bbox = o3d.geometry.AxisAlignedBoundingBox(min_bound=(-2, 0.5, 1),\n",
    "max_bound=(-1, 1, 3.5))\n",
    "bbox_pc = downpcd.crop(bbox)\n",
    "o3d.visualization.draw_geometries([bbox_pc])"
   ]
  },
  {
   "cell_type": "code",
   "execution_count": 111,
   "metadata": {},
   "outputs": [],
   "source": [
    "aabb = bbox_pc.get_axis_aligned_bounding_box()\n",
    "aabb.color = (1, 0, 0)\n",
    "obb = bbox_pc.get_oriented_bounding_box()\n",
    "obb.color = (0, 1, 0)\n",
    "o3d.visualization.draw_geometries([test_cloud, bbox_pc, aabb, obb])"
   ]
  },
  {
   "cell_type": "code",
   "execution_count": 112,
   "metadata": {},
   "outputs": [
    {
     "output_type": "stream",
     "name": "stdout",
     "text": [
      "[Open3D DEBUG] Precompute Neighbours\n[Open3D DEBUG] Done Precompute Neighbours\n[Open3D DEBUG] Compute Clusters\n[Open3D DEBUG] Done Compute Clusters: 74\npoint cloud has 74 clusters\n"
     ]
    }
   ],
   "source": [
    "with o3d.utility.VerbosityContextManager(o3d.utility.VerbosityLevel.Debug) as cm:\n",
    "    labels = np.array(downpcd.cluster_dbscan(eps=0.05, min_points=10, print_progress=True))\n",
    "\n",
    "max_label = labels.max()\n",
    "print(f\"point cloud has {max_label + 1} clusters\")\n",
    "colors = plt.get_cmap(\"tab20\")(labels / (max_label if max_label > 0 else 1))\n",
    "colors[labels < 0] = 0\n",
    "downpcd.colors = o3d.utility.Vector3dVector(colors[:, :3])\n",
    "o3d.visualization.draw_geometries([downpcd])"
   ]
  },
  {
   "cell_type": "code",
   "execution_count": 125,
   "metadata": {},
   "outputs": [
    {
     "output_type": "stream",
     "name": "stdout",
     "text": [
      "Statistical oulier removal\nShowing outliers (red) and inliers (gray): \n"
     ]
    }
   ],
   "source": [
    "def display_inlier_outlier(cloud, ind):\n",
    "    inlier_cloud = cloud.select_by_index(ind)\n",
    "    outlier_cloud = cloud.select_by_index(ind, invert=True)\n",
    "\n",
    "    print(\"Showing outliers (red) and inliers (gray): \")\n",
    "    outlier_cloud.paint_uniform_color([1, 0, 0])\n",
    "    inlier_cloud.paint_uniform_color([0.8, 0.8, 0.8])\n",
    "    o3d.visualization.draw_geometries([inlier_cloud, outlier_cloud])\n",
    "\n",
    "print(\"Statistical oulier removal\")\n",
    "# cl, ind = downpcd.remove_statistical_outlier(nb_neighbors=50, std_ratio=1.0)\n",
    "cl, ind = downpcd.remove_radius_outlier(nb_points=10, radius=0.05)\n",
    "display_inlier_outlier(downpcd, ind)"
   ]
  },
  {
   "cell_type": "code",
   "execution_count": 120,
   "metadata": {},
   "outputs": [],
   "source": [
    "points = np.random.rand(10000, 3)\n",
    "point_cloud = o3d.geometry.PointCloud()\n",
    "point_cloud.points = o3d.utility.Vector3dVector(points)\n",
    "o3d.visualization.draw_geometries([point_cloud])"
   ]
  },
  {
   "cell_type": "code",
   "execution_count": 126,
   "metadata": {},
   "outputs": [
    {
     "output_type": "stream",
     "name": "stdout",
     "text": [
      "voxelization\n"
     ]
    }
   ],
   "source": [
    "print('voxelization')\n",
    "voxel_grid = o3d.geometry.VoxelGrid.create_from_point_cloud(downpcd,\n",
    "                                                            voxel_size=0.01)\n",
    "o3d.visualization.draw_geometries([voxel_grid])"
   ]
  },
  {
   "cell_type": "code",
   "execution_count": null,
   "metadata": {},
   "outputs": [],
   "source": [
    "def preprocess_pcl(pcl):\n",
    "    print('pcl', np.asarray(test_cloud.points).shape)\n",
    "    downpcl = pcl.voxel_down_sample(voxel_size=0.05)\n",
    "    print('pcl downsampl', np.asarray(downpcl.points).shape)\n",
    "    rm_pcl, ind = downpcd.remove_statistical_outlier(nb_neighbors=20, std_ratio=2.0)\n",
    "    # cl, ind = voxel_down_pcd.remove_radius_outlier(nb_points=16, radius=0.05)"
   ]
  },
  {
   "cell_type": "code",
   "execution_count": null,
   "metadata": {},
   "outputs": [],
   "source": []
  },
  {
   "cell_type": "code",
   "execution_count": null,
   "metadata": {},
   "outputs": [],
   "source": []
  },
  {
   "cell_type": "code",
   "execution_count": null,
   "metadata": {},
   "outputs": [],
   "source": []
  },
  {
   "cell_type": "code",
   "execution_count": null,
   "metadata": {},
   "outputs": [],
   "source": [
    "# -----------------------------------------------------------------------------------------"
   ]
  },
  {
   "cell_type": "code",
   "execution_count": 4,
   "metadata": {},
   "outputs": [],
   "source": [
    "def display_inlier_outlier(pcl, ind):\n",
    "    inlier_cloud = pcl.select_by_index(ind)\n",
    "    outlier_cloud = pcl.select_by_index(ind, invert=True)\n",
    "    # outlier_cloud.paint_uniform_color([1, 0, 0])\n",
    "    # inlier_cloud.paint_uniform_color([0.8, 0.8, 0.8])\n",
    "    return inlier_cloud, outlier_cloud\n",
    "\n",
    "def preprocess_pcl(pcl):\n",
    "    print('pcl', np.asarray(pcl.points).shape)\n",
    "    downpcl = test_cloud.voxel_down_sample(voxel_size=0.03)\n",
    "    # downpcl = pcl.uniform_down_sample(every_k_points=100)\n",
    "    #downpcl = pcl.select_down_sample(indicies)\n",
    "    print('pcl downsampl', np.asarray(downpcl.points).shape)\n",
    "    rm_pcl, ind = downpcl.remove_statistical_outlier(nb_neighbors=10, std_ratio=2.0)\n",
    "    # cl, ind = voxel_down_pcd.remove_radius_outlier(nb_points=16, radius=0.05)\n",
    "    print('pcl rmsampl', np.asarray(rm_pcl.points).shape)\n",
    "    inlier_cloud, outlier_cloud = display_inlier_outlier(downpcl, ind)\n",
    "    return inlier_cloud\n",
    "\n",
    "def get_ground_plane(pcl):\n",
    "    plane_model, inliers = pcl.segment_plane(distance_threshold=0.15,ransac_n=3,num_iterations=1000)\n",
    "    [a, b, c, d] = plane_model\n",
    "    print(f\"Plane equation: {a:.2f}x + {b:.2f}y + {c:.2f}z + {d:.2f} = 0\")\n",
    "    return inliers\n",
    "\n",
    "def pcl_to_voxels(pcl):\n",
    "    voxel_grid = o3d.geometry.VoxelGrid.create_from_point_cloud(pcl,\n",
    "                                                                voxel_size=0.05)\n",
    "    return voxel_grid\n",
    "\n",
    "def pcl_clustering(pcl):\n",
    "    with o3d.utility.VerbosityContextManager(o3d.utility.VerbosityLevel.Debug) as cm:\n",
    "        labels = np.array(pcl.cluster_dbscan(eps=0.1, min_points=10, print_progress=True))\n",
    "\n",
    "    max_label = labels.max()\n",
    "    print(f\"point cloud has {max_label + 1} clusters\")\n",
    "    colors = plt.get_cmap(\"tab20\")(labels / (max_label if max_label > 0 else 1))\n",
    "    colors[labels < 0] = 0\n",
    "    pcl.colors = o3d.utility.Vector3dVector(colors[:, :3])\n",
    "    return pcl"
   ]
  },
  {
   "cell_type": "code",
   "execution_count": 97,
   "metadata": {},
   "outputs": [
    {
     "output_type": "stream",
     "name": "stdout",
     "text": [
      "pcl (610227, 3)\npcl downsampl (39177, 3)\npcl rmsampl (38397, 3)\npcl (695577, 3)\npcl downsampl (39177, 3)\npcl rmsampl (38382, 3)\n"
     ]
    }
   ],
   "source": [
    "test_cloud = o3d.io.read_point_cloud(test_cloud_path)\n",
    "test_cloud2 = o3d.io.read_point_cloud(test_cloud_path2)\n",
    "test_cloud.estimate_normals(search_param=o3d.geometry.KDTreeSearchParamHybrid(radius=0.1, max_nn=16), fast_normal_computation=True)\n",
    "prep_pcl = preprocess_pcl(test_cloud)\n",
    "prep_pcl2 = preprocess_pcl(test_cloud2)"
   ]
  },
  {
   "cell_type": "code",
   "execution_count": 98,
   "metadata": {},
   "outputs": [],
   "source": [
    "o3d.visualization.draw_geometries([test_cloud])"
   ]
  },
  {
   "cell_type": "code",
   "execution_count": 99,
   "metadata": {},
   "outputs": [
    {
     "output_type": "stream",
     "name": "stdout",
     "text": [
      "Plane equation: 0.00x + 0.06y + 1.00z + -3.34 = 0\n"
     ]
    }
   ],
   "source": [
    "ground_plane_ind = get_ground_plane(prep_pcl)\n",
    "gp_inl, gp_outl = display_inlier_outlier(prep_pcl, ground_plane_ind)\n",
    "gp_inl.paint_uniform_color([1, 0, 0])\n",
    "o3d.visualization.draw_geometries([gp_inl, gp_outl])"
   ]
  },
  {
   "cell_type": "code",
   "execution_count": 100,
   "metadata": {},
   "outputs": [
    {
     "output_type": "stream",
     "name": "stdout",
     "text": [
      "[Open3D DEBUG] Precompute Neighbours\n[Open3D DEBUG] Done Precompute Neighbours\n[Open3D DEBUG] Compute Clusters\n[Open3D DEBUG] Done Compute Clusters: 61\npoint cloud has 61 clusters\n"
     ]
    }
   ],
   "source": [
    "clust_pcl = pcl_clustering(gp_outl)\n",
    "o3d.visualization.draw_geometries([clust_pcl])"
   ]
  },
  {
   "cell_type": "code",
   "execution_count": 22,
   "metadata": {},
   "outputs": [],
   "source": [
    "# -----------------------------------------------------------------"
   ]
  },
  {
   "cell_type": "code",
   "execution_count": 1,
   "metadata": {},
   "outputs": [],
   "source": [
    "import open3d as o3d\n",
    "import numpy as np\n",
    "import matplotlib.pyplot as plt\n",
    "import copy\n",
    "import os\n",
    "import sys\n",
    "lol = ''"
   ]
  },
  {
   "cell_type": "code",
   "execution_count": 2,
   "metadata": {},
   "outputs": [
    {
     "output_type": "stream",
     "name": "stdout",
     "text": [
      "load pcl\n",
      "(705205, 3)\n"
     ]
    }
   ],
   "source": [
    "clouds_path = ''\n",
    "test_cloud_name = 'cloud_2_1620665787167437.pcd'\n",
    "test_cloud_path = os.path.join(clouds_path, test_cloud_name)\n",
    "\n",
    "print('load pcl')\n",
    "pcl = o3d.io.read_point_cloud(lol,remove_nan_points = True, remove_infinite_points = True)\n",
    "type(pcl)\n",
    "print(np.asarray(pcl.points).shape)\n",
    "o3d.visualization.draw_geometries([pcl])"
   ]
  },
  {
   "cell_type": "code",
   "execution_count": 3,
   "metadata": {},
   "outputs": [
    {
     "output_type": "stream",
     "name": "stdout",
     "text": [
      "downsample the point cloud with a voxels\n(46013, 3)\n"
     ]
    }
   ],
   "source": [
    "print(\"downsample the point cloud with a voxels\")\n",
    "downpcl = pcl.voxel_down_sample(voxel_size=0.03)\n",
    "# downpcl = pcl.uniform_down_sample(every_k_points=15)\n",
    "# downpcl = pcl.select_down_sample(indicies)\n",
    "o3d.visualization.draw_geometries([downpcl])\n",
    "print(np.asarray(downpcl.points).shape)"
   ]
  },
  {
   "cell_type": "code",
   "execution_count": 4,
   "metadata": {},
   "outputs": [
    {
     "output_type": "stream",
     "name": "stdout",
     "text": [
      "remove ground plane points\nPlane equation: -0.09x + -0.04y + 1.00z + -3.23 = 0\n"
     ]
    }
   ],
   "source": [
    "print('remove ground plane points')\n",
    "ground_plane_model, ground_ind = downpcl.segment_plane(distance_threshold=0.2,ransac_n=3,num_iterations=1000)\n",
    "[a, b, c, d] = ground_plane_model\n",
    "print(f\"Plane equation: {a:.2f}x + {b:.2f}y + {c:.2f}z + {d:.2f} = 0\")\n",
    "gp_pcl = downpcl.select_by_index(ground_ind)\n",
    "gp_pcl.paint_uniform_color([1, 0, 0])\n",
    "pcl_without_gp = downpcl.select_by_index(ground_ind, invert=True)\n",
    "o3d.visualization.draw_geometries([pcl_without_gp, gp_pcl])\n",
    "\n",
    "gp_axis_bbox = gp_pcl.get_axis_aligned_bounding_box()\n",
    "gp_or_bbox = gp_pcl.get_oriented_bounding_box()\n",
    "gp_axis_bbox.color = (1, 0, 0)\n",
    "gp_or_bbox.color = (0, 1, 0)\n",
    "o3d.visualization.draw_geometries([downpcl, gp_axis_bbox, gp_or_bbox])\n",
    "\n",
    "minb = gp_axis_bbox.get_min_bound()\n",
    "maxb = gp_axis_bbox.get_max_bound()\n",
    "maxb[2] = 4.0 # clip ground plane\n",
    "bbox = o3d.geometry.AxisAlignedBoundingBox(min_bound=minb,\n",
    "max_bound=maxb)\n",
    "gp_ind = bbox.get_point_indices_within_bounding_box(downpcl.points)\n",
    "gpbbox_inl = downpcl.select_by_index(gp_ind)\n",
    "pcl_without_gp = downpcl.select_by_index(gp_ind, invert=True)\n",
    "# gpbbox_outl.paint_uniform_color([1, 0, 0])\n",
    "# inlier_cloud.paint_uniform_color([1, 0, 0])\n",
    "o3d.visualization.draw_geometries([pcl_without_gp])"
   ]
  },
  {
   "cell_type": "code",
   "execution_count": 5,
   "metadata": {},
   "outputs": [],
   "source": [
    "# print('select train points') # ???\n",
    "# train_model, train_ind = pcl_without_gp.segment_plane(distance_threshold=0.2,ransac_n=3,num_iterations=1000)\n",
    "# [a, b, c, d] = train_model\n",
    "# print(f\"Plane equation: {a:.2f}x + {b:.2f}y + {c:.2f}z + {d:.2f} = 0\")\n",
    "# train_pcl = pcl_without_gp.select_by_index(train_ind)\n",
    "# train_pcl.paint_uniform_color([1, 0, 0])\n",
    "# pcl_workspace = pcl_without_gp.select_by_index(train_ind, invert=True)\n",
    "# o3d.visualization.draw_geometries([train_pcl, pcl_workspace])\n",
    "\n",
    "# rmpcl, ind = train_pcl.remove_statistical_outlier(nb_neighbors=20,\n",
    "# std_ratio=1.0)\n",
    "# train_inlier_cloud = train_pcl.select_by_index(ind)\n",
    "# train_outlier_cloud = train_pcl.select_by_index(ind, invert=True)\n",
    "# train_outlier_cloud.paint_uniform_color([1, 0, 0])\n",
    "# # inlier_cloud.paint_uniform_color([1, 0, 0])\n",
    "# o3d.visualization.draw_geometries([train_inlier_cloud, train_outlier_cloud])\n",
    "# train_pcl = train_inlier_cloud\n",
    "# o3d.visualization.draw_geometries([train_pcl])"
   ]
  },
  {
   "cell_type": "code",
   "execution_count": 6,
   "metadata": {},
   "outputs": [
    {
     "output_type": "stream",
     "name": "stdout",
     "text": [
      "remove noise from workspace\n"
     ]
    }
   ],
   "source": [
    "pcl_workspace = pcl_without_gp\n",
    "print(\"remove noise from workspace\")\n",
    "rmpcl, work_ind = pcl_workspace.remove_statistical_outlier(nb_neighbors=10,\n",
    "std_ratio=3.0)\n",
    "# workspace, work_ind = pcl_workspace.remove_radius_outlier(nb_points=25, radius=0.1)\n",
    "work_inlier_cloud = pcl_workspace.select_by_index(work_ind)\n",
    "work_outlier_cloud = pcl_workspace.select_by_index(work_ind, invert=True)\n",
    "work_outlier_cloud.paint_uniform_color([1, 0, 0])\n",
    "# inlier_cloud.paint_uniform_color([1, 0, 0])\n",
    "# pcl_workspace = work_inlier_cloud\n",
    "respcl = work_inlier_cloud\n",
    "o3d.visualization.draw_geometries([respcl])"
   ]
  },
  {
   "cell_type": "code",
   "execution_count": 7,
   "metadata": {},
   "outputs": [],
   "source": [
    "train_area = o3d.geometry.AxisAlignedBoundingBox(min_bound=(-2, -1.5, 1),\n",
    "max_bound=(2, -0.0, 3))\n",
    "# train_cloud = respcl.crop(train_area)\n",
    "# bbox_train = train_cloud.get_axis_aligned_bounding_box()\n",
    "# o3d.visualization.draw_geometries([train_area, respcl])\n",
    "train_ind = train_area.get_point_indices_within_bounding_box(respcl.points)\n",
    "train_pcl = respcl.select_by_index(train_ind)\n",
    "o3d.visualization.draw_geometries([train_pcl, train_area])\n",
    "\n",
    "danger_area = o3d.geometry.AxisAlignedBoundingBox(min_bound=(-2, -0.4, 1),\n",
    "max_bound=(2, 1, 3))\n",
    "# danger_cloud = respcl.crop(danger_area)\n",
    "# bbox_danger = danger_cloud.get_axis_aligned_bounding_box()\n",
    "danger_ind = danger_area.get_point_indices_within_bounding_box(respcl.points)\n",
    "danger_pcl = respcl.select_by_index(danger_ind)\n",
    "o3d.visualization.draw_geometries([danger_pcl, danger_area])"
   ]
  },
  {
   "cell_type": "code",
   "execution_count": 8,
   "metadata": {},
   "outputs": [],
   "source": [
    "# rmpcl, rm_danger_ind = danger_pcl.remove_statistical_outlier(nb_neighbors=10,\n",
    "# std_ratio=1.0)\n",
    "mpcl, rm_danger_ind = danger_pcl.remove_radius_outlier(nb_points=20, radius=0.1)\n",
    "result_pcl = danger_pcl.select_by_index(rm_danger_ind)\n",
    "ppcl3 = danger_pcl.select_by_index(rm_danger_ind, invert=True)\n",
    "ppcl3.paint_uniform_color([1, 0, 0])\n",
    "o3d.visualization.draw_geometries([result_pcl, ppcl3])"
   ]
  },
  {
   "cell_type": "code",
   "execution_count": 9,
   "metadata": {},
   "outputs": [
    {
     "output_type": "stream",
     "name": "stdout",
     "text": [
      "point cloud has 9 clusters\n"
     ]
    }
   ],
   "source": [
    "labels = np.array(result_pcl.cluster_dbscan(eps=0.1, min_points=10, print_progress=True))\n",
    "\n",
    "max_label = labels.max()\n",
    "print(f\"point cloud has {max_label + 1} clusters\")\n",
    "colors = plt.get_cmap(\"tab20\")(labels / (max_label if max_label > 0 else 1))\n",
    "colors[labels < 0] = 0\n",
    "result_pcl.colors = o3d.utility.Vector3dVector(colors[:, :3])\n",
    "o3d.visualization.draw_geometries([result_pcl])"
   ]
  },
  {
   "cell_type": "code",
   "execution_count": 11,
   "metadata": {},
   "outputs": [],
   "source": [
    "import numpy as np\n",
    "%load model.py"
   ]
  },
  {
   "cell_type": "code",
   "execution_count": 12,
   "metadata": {},
   "outputs": [],
   "source": [
    "from model import get_keras_pointnet"
   ]
  },
  {
   "cell_type": "code",
   "execution_count": 40,
   "metadata": {},
   "outputs": [],
   "source": [
    "pointnet = get_keras_pointnet(4, 4096)\n",
    "pointnet.load_weights('./pointnet_weights2.h5')"
   ]
  },
  {
   "cell_type": "code",
   "execution_count": 41,
   "metadata": {},
   "outputs": [
    {
     "output_type": "stream",
     "name": "stdout",
     "text": [
      "Model: \"pointnet\"\n__________________________________________________________________________________________________\nLayer (type)                    Output Shape         Param #     Connected to                     \n==================================================================================================\ninput_2 (InputLayer)            [(None, 4096, 3)]    0                                            \n__________________________________________________________________________________________________\nconv1d_11 (Conv1D)              (None, 4096, 32)     128         input_2[0][0]                    \n__________________________________________________________________________________________________\nbatch_normalization_17 (BatchNo (None, 4096, 32)     128         conv1d_11[0][0]                  \n__________________________________________________________________________________________________\nactivation_17 (Activation)      (None, 4096, 32)     0           batch_normalization_17[0][0]     \n__________________________________________________________________________________________________\nconv1d_12 (Conv1D)              (None, 4096, 64)     2112        activation_17[0][0]              \n__________________________________________________________________________________________________\nbatch_normalization_18 (BatchNo (None, 4096, 64)     256         conv1d_12[0][0]                  \n__________________________________________________________________________________________________\nactivation_18 (Activation)      (None, 4096, 64)     0           batch_normalization_18[0][0]     \n__________________________________________________________________________________________________\nconv1d_13 (Conv1D)              (None, 4096, 512)    33280       activation_18[0][0]              \n__________________________________________________________________________________________________\nbatch_normalization_19 (BatchNo (None, 4096, 512)    2048        conv1d_13[0][0]                  \n__________________________________________________________________________________________________\nactivation_19 (Activation)      (None, 4096, 512)    0           batch_normalization_19[0][0]     \n__________________________________________________________________________________________________\nglobal_max_pooling1d_3 (GlobalM (None, 512)          0           activation_19[0][0]              \n__________________________________________________________________________________________________\ndense_9 (Dense)                 (None, 256)          131328      global_max_pooling1d_3[0][0]     \n__________________________________________________________________________________________________\nbatch_normalization_20 (BatchNo (None, 256)          1024        dense_9[0][0]                    \n__________________________________________________________________________________________________\nactivation_20 (Activation)      (None, 256)          0           batch_normalization_20[0][0]     \n__________________________________________________________________________________________________\ndense_10 (Dense)                (None, 128)          32896       activation_20[0][0]              \n__________________________________________________________________________________________________\nbatch_normalization_21 (BatchNo (None, 128)          512         dense_10[0][0]                   \n__________________________________________________________________________________________________\nactivation_21 (Activation)      (None, 128)          0           batch_normalization_21[0][0]     \n__________________________________________________________________________________________________\ndense_11 (Dense)                (None, 9)            1161        activation_21[0][0]              \n__________________________________________________________________________________________________\nreshape_2 (Reshape)             (None, 3, 3)         0           dense_11[0][0]                   \n__________________________________________________________________________________________________\ndot_2 (Dot)                     (None, 4096, 3)      0           input_2[0][0]                    \n                                                                 reshape_2[0][0]                  \n__________________________________________________________________________________________________\nconv1d_14 (Conv1D)              (None, 4096, 32)     128         dot_2[0][0]                      \n__________________________________________________________________________________________________\nbatch_normalization_22 (BatchNo (None, 4096, 32)     128         conv1d_14[0][0]                  \n__________________________________________________________________________________________________\nactivation_22 (Activation)      (None, 4096, 32)     0           batch_normalization_22[0][0]     \n__________________________________________________________________________________________________\nconv1d_15 (Conv1D)              (None, 4096, 32)     1056        activation_22[0][0]              \n__________________________________________________________________________________________________\nbatch_normalization_23 (BatchNo (None, 4096, 32)     128         conv1d_15[0][0]                  \n__________________________________________________________________________________________________\nactivation_23 (Activation)      (None, 4096, 32)     0           batch_normalization_23[0][0]     \n__________________________________________________________________________________________________\nconv1d_16 (Conv1D)              (None, 4096, 32)     1056        activation_23[0][0]              \n__________________________________________________________________________________________________\nbatch_normalization_24 (BatchNo (None, 4096, 32)     128         conv1d_16[0][0]                  \n__________________________________________________________________________________________________\nactivation_24 (Activation)      (None, 4096, 32)     0           batch_normalization_24[0][0]     \n__________________________________________________________________________________________________\nconv1d_17 (Conv1D)              (None, 4096, 64)     2112        activation_24[0][0]              \n__________________________________________________________________________________________________\nbatch_normalization_25 (BatchNo (None, 4096, 64)     256         conv1d_17[0][0]                  \n__________________________________________________________________________________________________\nactivation_25 (Activation)      (None, 4096, 64)     0           batch_normalization_25[0][0]     \n__________________________________________________________________________________________________\nconv1d_18 (Conv1D)              (None, 4096, 512)    33280       activation_25[0][0]              \n__________________________________________________________________________________________________\nbatch_normalization_26 (BatchNo (None, 4096, 512)    2048        conv1d_18[0][0]                  \n__________________________________________________________________________________________________\nactivation_26 (Activation)      (None, 4096, 512)    0           batch_normalization_26[0][0]     \n__________________________________________________________________________________________________\nglobal_max_pooling1d_4 (GlobalM (None, 512)          0           activation_26[0][0]              \n__________________________________________________________________________________________________\ndense_12 (Dense)                (None, 256)          131328      global_max_pooling1d_4[0][0]     \n__________________________________________________________________________________________________\nbatch_normalization_27 (BatchNo (None, 256)          1024        dense_12[0][0]                   \n__________________________________________________________________________________________________\nactivation_27 (Activation)      (None, 256)          0           batch_normalization_27[0][0]     \n__________________________________________________________________________________________________\ndense_13 (Dense)                (None, 128)          32896       activation_27[0][0]              \n__________________________________________________________________________________________________\nbatch_normalization_28 (BatchNo (None, 128)          512         dense_13[0][0]                   \n__________________________________________________________________________________________________\nactivation_28 (Activation)      (None, 128)          0           batch_normalization_28[0][0]     \n__________________________________________________________________________________________________\ndense_14 (Dense)                (None, 1024)         132096      activation_28[0][0]              \n__________________________________________________________________________________________________\nreshape_3 (Reshape)             (None, 32, 32)       0           dense_14[0][0]                   \n__________________________________________________________________________________________________\ndot_3 (Dot)                     (None, 4096, 32)     0           activation_23[0][0]              \n                                                                 reshape_3[0][0]                  \n__________________________________________________________________________________________________\nconv1d_19 (Conv1D)              (None, 4096, 64)     2112        dot_3[0][0]                      \n__________________________________________________________________________________________________\nbatch_normalization_29 (BatchNo (None, 4096, 64)     256         conv1d_19[0][0]                  \n__________________________________________________________________________________________________\nactivation_29 (Activation)      (None, 4096, 64)     0           batch_normalization_29[0][0]     \n__________________________________________________________________________________________________\nconv1d_20 (Conv1D)              (None, 4096, 64)     4160        activation_29[0][0]              \n__________________________________________________________________________________________________\nbatch_normalization_30 (BatchNo (None, 4096, 64)     256         conv1d_20[0][0]                  \n__________________________________________________________________________________________________\nactivation_30 (Activation)      (None, 4096, 64)     0           batch_normalization_30[0][0]     \n__________________________________________________________________________________________________\nconv1d_21 (Conv1D)              (None, 4096, 512)    33280       activation_30[0][0]              \n__________________________________________________________________________________________________\nbatch_normalization_31 (BatchNo (None, 4096, 512)    2048        conv1d_21[0][0]                  \n__________________________________________________________________________________________________\nactivation_31 (Activation)      (None, 4096, 512)    0           batch_normalization_31[0][0]     \n__________________________________________________________________________________________________\nglobal_max_pooling1d_5 (GlobalM (None, 512)          0           activation_31[0][0]              \n__________________________________________________________________________________________________\ndense_15 (Dense)                (None, 256)          131328      global_max_pooling1d_5[0][0]     \n__________________________________________________________________________________________________\nbatch_normalization_32 (BatchNo (None, 256)          1024        dense_15[0][0]                   \n__________________________________________________________________________________________________\nactivation_32 (Activation)      (None, 256)          0           batch_normalization_32[0][0]     \n__________________________________________________________________________________________________\ndropout_2 (Dropout)             (None, 256)          0           activation_32[0][0]              \n__________________________________________________________________________________________________\ndense_16 (Dense)                (None, 128)          32896       dropout_2[0][0]                  \n__________________________________________________________________________________________________\nbatch_normalization_33 (BatchNo (None, 128)          512         dense_16[0][0]                   \n__________________________________________________________________________________________________\nactivation_33 (Activation)      (None, 128)          0           batch_normalization_33[0][0]     \n__________________________________________________________________________________________________\ndropout_3 (Dropout)             (None, 128)          0           activation_33[0][0]              \n__________________________________________________________________________________________________\ndense_17 (Dense)                (None, 4)            516         dropout_3[0][0]                  \n==================================================================================================\nTotal params: 751,437\nTrainable params: 745,293\nNon-trainable params: 6,144\n__________________________________________________________________________________________________\n"
     ]
    }
   ],
   "source": [
    "pointnet.summary()"
   ]
  },
  {
   "cell_type": "code",
   "execution_count": 42,
   "metadata": {
    "tags": []
   },
   "outputs": [
    {
     "output_type": "stream",
     "name": "stderr",
     "text": [
      "WARNING - 2021-05-23 09:48:56,980 - functional - Model was constructed with shape (None, 4096, 3) for input Tensor(\"input_2:0\", shape=(None, 4096, 3), dtype=float32), but it was called on an input with incompatible shape (None, 2145, 3).\n",
      "WARNING - 2021-05-23 09:48:57,249 - functional - Model was constructed with shape (None, 4096, 3) for input Tensor(\"input_2:0\", shape=(None, 4096, 3), dtype=float32), but it was called on an input with incompatible shape (None, 127, 3).\n",
      "0\n",
      "0\n",
      "0\n",
      "3\n",
      "0\n",
      "0\n",
      "0\n",
      "0\n",
      "0\n"
     ]
    }
   ],
   "source": [
    "classes = ['human', 'wear', 'limb', 'other']\n",
    "instances = np.unique(labels)[1:]\n",
    "bboxes_pcs = []\n",
    "output = []\n",
    "for instance in instances:\n",
    "    pc = o3d.geometry.PointCloud() \n",
    "    pc.points = o3d.utility.Vector3dVector(np.asarray(result_pcl.points)[np.where(labels == instance)])\n",
    "    pc_bbox = pc.get_axis_aligned_bounding_box() \n",
    "    bboxes_pcs.append(pc_bbox)\n",
    "    bbox_pcl = result_pcl.crop(pc_bbox)\n",
    "    bbox_pcl_arr = np.asarray(bbox_pcl.points)\n",
    "    bbox_pcl_arr = bbox_pcl_arr[np.newaxis, :]\n",
    "    pred = pointnet.predict(bbox_pcl_arr)\n",
    "    pred = pred.argmax()\n",
    "    print(pred)\n",
    "    center = bbox_pcl.get_center()\n",
    "    min_bound = bbox_pcl.get_min_bound()\n",
    "    max_bound = bbox_pcl.get_max_bound()\n",
    "    \n",
    "    # o3d.visualization.draw_geometries([pc_bbox, result_pcl])\n",
    "    obj = {'object':classes[pred], \n",
    "           'geometry':{'position': {'x':center[0], 'y':center[1], 'z':center[2]},\n",
    "                       'rotation': {'x':0, 'y':0, 'z':0},\n",
    "                       'dimensions': {\n",
    "                           'x':abs(max_bound[0]-min_bound[0]), \n",
    "                           'y':abs(max_bound[1]-min_bound[1]), \n",
    "                           'z':abs(max_bound[2]-min_bound[2])}},\n",
    "           'door': 'unknown'}\n",
    "    output.append(obj)\n",
    "\n",
    "out_json = {'figures':obj}\n",
    "# o3d.visualization.draw_geometries([*bboxes_pcs, result_pcl])"
   ]
  },
  {
   "cell_type": "code",
   "execution_count": 43,
   "metadata": {},
   "outputs": [],
   "source": [
    "import json\n",
    "\n",
    "with open('out.json', 'w') as fp:\n",
    "    json.dump(out_json, fp)"
   ]
  },
  {
   "cell_type": "code",
   "execution_count": null,
   "metadata": {},
   "outputs": [],
   "source": []
  }
 ]
}