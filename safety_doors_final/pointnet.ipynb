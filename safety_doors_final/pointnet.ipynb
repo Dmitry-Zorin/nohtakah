{
  "nbformat": 4,
  "nbformat_minor": 0,
  "metadata": {
    "colab": {
      "name": "pointnet",
      "provenance": [],
      "collapsed_sections": [],
      "toc_visible": true
    },
    "kernelspec": {
      "display_name": "Python 3",
      "language": "python",
      "name": "python3"
    }
  },
  "cells": [
    {
      "cell_type": "markdown",
      "metadata": {
        "id": "_iD0GWeVwHL6"
      },
      "source": [
        "# PointNet\n"
      ]
    },
    {
      "cell_type": "code",
      "metadata": {
        "colab": {
          "base_uri": "https://localhost:8080/"
        },
        "id": "dmDCkkQgwHL7",
        "outputId": "36658990-db08-4b0e-faf7-eb25a8d7ac11"
      },
      "source": [
        "import os\n",
        "import glob\n",
        "import numpy as np\n",
        "import tensorflow as tf\n",
        "from tensorflow import keras\n",
        "from tensorflow.keras import layers\n",
        "from matplotlib import pyplot as plt\n",
        "import tensorflow as tf\n",
        "import open3d.ml as _ml3d\n",
        "import open3d.ml.tf as ml3d\n",
        "import open3d as o3d\n",
        "import numpy as np\n",
        "import json\n",
        "tf.random.set_seed(1234)"
      ],
      "execution_count": 1,
      "outputs": []
    },
    {
      "cell_type": "code",
      "execution_count": 19,
      "metadata": {},
      "outputs": [],
      "source": [
        "NUM_POINTS = 4096\n",
        "NUM_CLASSES = 4\n",
        "BATCH_SIZE = 16"
      ]
    },
    {
      "cell_type": "code",
      "execution_count": 3,
      "metadata": {},
      "outputs": [],
      "source": [
        "# points = mesh.sample(2048)\n",
        "\n",
        "# fig = plt.figure(figsize=(5, 5))\n",
        "# ax = fig.add_subplot(111, projection=\"3d\")\n",
        "# ax.scatter(points[:, 0], points[:, 1], points[:, 2])\n",
        "# ax.set_axis_off()\n",
        "# plt.show()"
      ]
    },
    {
      "cell_type": "code",
      "execution_count": 4,
      "metadata": {},
      "outputs": [],
      "source": [
        "gt_pcl_path = ''\n",
        "gt_lbl_path = ''\n",
        "filenames_gt_pcl = sorted(os.listdir(gt_pcl_path))\n",
        "filenames_lbl_pcl = sorted(os.listdir(gt_lbl_path))\n",
        "\n",
        "pcl_bbox_list = []\n",
        "for gt_pcl, gt_lbl in zip(filenames_gt_pcl, filenames_lbl_pcl):\n",
        "    pcl = o3d.io.read_point_cloud(os.path.join(gt_pcl_path, gt_pcl))\n",
        "    pcl_lbl = json.load(open(os.path.join(gt_lbl_path, gt_lbl), 'rb'))\n",
        "    bboxes_descr = pcl_lbl['figures']\n",
        "    objects_descr = pcl_lbl['objects']\n",
        "    pcl_bbox_list_inl = []\n",
        "    for bboxd in bboxes_descr:\n",
        "        obj_key = bboxd['objectKey']\n",
        "        bbox3d_pos_x = bboxd['geometry']['position']['x']\n",
        "        bbox3d_pos_y = bboxd['geometry']['position']['y']\n",
        "        bbox3d_pos_z = bboxd['geometry']['position']['z']\n",
        "        bbox3d_dim_x = bboxd['geometry']['dimensions']['x']\n",
        "        bbox3d_dim_y = bboxd['geometry']['dimensions']['y']\n",
        "        bbox3d_dim_z = bboxd['geometry']['dimensions']['z']\n",
        "        x1 = bbox3d_pos_x - bbox3d_dim_x / 2\n",
        "        x2 = bbox3d_pos_x + bbox3d_dim_x / 2\n",
        "        y1 = bbox3d_pos_y - bbox3d_dim_y / 2\n",
        "        y2 = bbox3d_pos_y + bbox3d_dim_y / 2\n",
        "        z1 = bbox3d_pos_z - bbox3d_dim_z / 2\n",
        "        z2 = bbox3d_pos_z + bbox3d_dim_z / 2\n",
        "        min_bound = (min(x1, x2), min(y1, y2), min(z1, z2))\n",
        "        max_bound = (max(x1, x2), max(y1, y2), max(z1, z2))\n",
        "        # print(min_bound, max_bound)\n",
        "        bbox = o3d.geometry.AxisAlignedBoundingBox(min_bound=min_bound,max_bound=max_bound)\n",
        "        bbox_pcl = pcl.crop(bbox)\n",
        "        # print(np.asarray(bbox_pcl.points))\n",
        "        # o3d.visualization.draw_geometries([pcl])\n",
        "        lbl_name = [obj['classTitle'] for obj in objects_descr if obj['key'] == obj_key][0]\n",
        "        pcl_bbox_list_inl.append((bbox, bbox_pcl, lbl_name))\n",
        "    pcl_bbox_list.append((pcl, pcl_bbox_list_inl))"
      ]
    },
    {
      "cell_type": "code",
      "execution_count": 5,
      "metadata": {},
      "outputs": [
        {
          "output_type": "error",
          "ename": "IndexError",
          "evalue": "list index out of range",
          "traceback": [
            "\u001b[0;31m---------------------------------------------------------------------------\u001b[0m",
            "\u001b[0;31mIndexError\u001b[0m                                Traceback (most recent call last)",
            "\u001b[0;32m<ipython-input-5-4890a40adca5>\u001b[0m in \u001b[0;36m<module>\u001b[0;34m\u001b[0m\n\u001b[1;32m      1\u001b[0m o3d.visualization.draw_geometries([pcl_bbox_list[1][0], pcl_bbox_list[1][1][0][0], pcl_bbox_list[1][1][0][1],\n\u001b[0;32m----> 2\u001b[0;31m pcl_bbox_list[1][1][1][0], pcl_bbox_list[1][1][1][1], pcl_bbox_list[1][1][2][0], pcl_bbox_list[1][1][2][1]])\n\u001b[0m",
            "\u001b[0;31mIndexError\u001b[0m: list index out of range"
          ]
        }
      ],
      "source": [
        "o3d.visualization.draw_geometries([pcl_bbox_list[1][0], pcl_bbox_list[1][1][0][0], pcl_bbox_list[1][1][0][1],\n",
        "pcl_bbox_list[1][1][1][0], pcl_bbox_list[1][1][1][1], pcl_bbox_list[1][1][2][0], pcl_bbox_list[1][1][2][1]])"
      ]
    },
    {
      "cell_type": "code",
      "execution_count": 6,
      "metadata": {},
      "outputs": [
        {
          "output_type": "execute_result",
          "data": {
            "text/plain": [
              ", 0.668912, 2.23856), max: (-1.23604, 1.12384, 3.1512),\n",
              "    PointCloud with 12703 points.,\n",
              "    'human')]),\n",
              " (PointCloud with 752375 points.,\n",
              "  [(AxisAlignedBoundingBox: min: (-0.569375, -0.164108, 1.29324), max: (0.0388805, 0.841746, 3.13712),\n",
              "    PointCloud with 25301 points.,\n",
              "    'human'),\n",
              "   (AxisAlignedBoundingBox: min: (-0.680231, -0.625057, 1.53091), max: (-0.415826, -0.100473, 2.45828),\n",
              "    PointCloud with 8529 points.,\n",
              "    'wear')]),\n",
              " (PointCloud with 749647 points.,\n",
              "  [(AxisAlignedBoundingBox: min: (-0.881959, -0.340444, 2.27918), max: (-0.119362, 0.393125, 3.12792),\n",
              "    PointCloud with 23559 points.,\n",
              "    'human')]),\n",
              " (PointCloud with 761381 points.,\n",
              "  [(AxisAlignedBoundingBox: min: (-0.987228, -0.255525, 1.36277), max: (-0.149402, 0.321572, 3.1128),\n",
              "    PointCloud with 25320 points.,\n",
              "    'human'),\n",
              "   (AxisAlignedBoundingBox: min: (-0.662418, -0.467941, 1.77886), max: (-0.369402, -0.19359, 2.76957),\n",
              "    PointCloud with 6276 points.,\n",
              "    'wear')]),\n",
              " (PointCloud with 753010 points.,\n",
              "  [(AxisAlignedBoundingBox: min: (-0.544023, -0.214188, 2.73646), max: (-0.270906, 0.187356, 3.19557),\n",
              "    PointCloud with 5921 points.,\n",
              "    'other')]),\n",
              " (PointCloud with 783125 points.,\n",
              "  [(AxisAlignedBoundingBox: min: (-0.523408, -0.23944, 2.77518), max: (-0.296704, 0.118179, 3.14001),\n",
              "    PointCloud with 4059 points.,\n",
              "    'other'),\n",
              "   (AxisAlignedBoundingBox: min: (-1.89996, 0.627568, 2.15496), max: (-1.3696, 1.12493, 3.17269),\n",
              "    PointCloud with 11873 points.,\n",
              "    'human')]),\n",
              " (PointCloud with 781352 points.,\n",
              "  [(AxisAlignedBoundingBox: min: (-0.598173, -0.657034, 2.57507), max: (-0.33177, -0.29291, 3.08287),\n",
              "    PointCloud with 5518 points.,\n",
              "    'other'),\n",
              "   (AxisAlignedBoundingBox: min: (-1.9147, 0.631241, 2.11793), max: (-1.26948, 1.1406, 3.15195),\n",
              "    PointCloud with 12541 points.,\n",
              "    'human')]),\n",
              " (PointCloud with 752619 points.,\n",
              "  [(AxisAlignedBoundingBox: min: (-0.655798, -0.361007, 2.15184), max: (-0.00274242, 0.419301, 3.12845),\n",
              "    PointCloud with 19710 points.,\n",
              "    'human'),\n",
              "   (AxisAlignedBoundingBox: min: (-1.72706, 0.729117, 2.42265), max: (-1.02614, 1.12515, 3.17747),\n",
              "    PointCloud with 11290 points.,\n",
              "    'human')]),\n",
              " (PointCloud with 752091 points.,\n",
              "  [(AxisAlignedBoundingBox: min: (-1.20518, 0.502057, 1.73464), max: (-0.205441, 1.18128, 3.15432),\n",
              "    PointCloud with 26148 points.,\n",
              "    'human'),\n",
              "   (AxisAlignedBoundingBox: min: (-1.40598, -0.458294, 1.376), max: (-0.371914, 0.357829, 3.11416),\n",
              "    PointCloud with 45663 points.,\n",
              "    'human')]),\n",
              " (PointCloud with 748045 points.,\n",
              "  [(AxisAlignedBoundingBox: min: (-1.57508, 0.674433, 1.89705), max: (-0.606768, 1.13679, 3.12757),\n",
              "    PointCloud with 18680 points.,\n",
              "    'human'),\n",
              "   (AxisAlignedBoundingBox: min: (-0.633181, -0.408116, 1.91564), max: (-0.390103, -0.130946, 2.8955),\n",
              "    PointCloud with 3925 points.,\n",
              "    'limb')]),\n",
              " (PointCloud with 739353 points.,\n",
              "  [(AxisAlignedBoundingBox: min: (-1.91295, 0.444679, 1.47821), max: (-0.783838, 1.16087, 3.13497),\n",
              "    PointCloud with 42044 points.,\n",
              "    'human'),\n",
              "   (AxisAlignedBoundingBox: min: (-0.783884, -0.592157, 1.53083), max: (-0.547419, -0.387135, 2.37059),\n",
              "    PointCloud with 3149 points.,\n",
              "    'limb')]),\n",
              " (PointCloud with 743797 points.,\n",
              "  [(AxisAlignedBoundingBox: min: (-1.20823, -0.216947, 1.42026), max: (-0.180484, 0.761983, 3.1226),\n",
              "    PointCloud with 40612 points.,\n",
              "    'human'),\n",
              "   (AxisAlignedBoundingBox: min: (-0.790768, -0.637514, 1.56742), max: (-0.555471, -0.23032, 2.02609),\n",
              "    PointCloud with 6550 points.,\n",
              "    'limb')]),\n",
              " (PointCloud with 748483 points.,\n",
              "  [(AxisAlignedBoundingBox: min: (-0.852938, -0.746426, 1.49154), max: (-0.613981, -0.282219, 1.83192),\n",
              "    PointCloud with 2191 points.,\n",
              "    'other')]),\n",
              " (PointCloud with 741024 points.,\n",
              "  [(AxisAlignedBoundingBox: min: (-0.486858, -0.34228, 2.77132), max: (-0.36635, 0.112486, 3.14142),\n",
              "    PointCloud with 1715 points.,\n",
              "    'other')]),\n",
              " (PointCloud with 757275 points.,\n",
              "  [(AxisAlignedBoundingBox: min: (-0.825476, -0.64654, 1.58206), max: (-0.417407, -0.38286, 2.32856),\n",
              "    PointCloud with 4780 points.,\n",
              "    'other')]),\n",
              " (PointCloud with 750849 points.,\n",
              "  [(AxisAlignedBoundingBox: min: (-0.908345, -0.334031, 1.36154), max: (-0.133333, 0.685913, 3.08843),\n",
              "    PointCloud with 26213 points.,\n",
              "    'human'),\n",
              "   (AxisAlignedBoundingBox: min: (-1.0298, -0.673445, 1.51965), max: (-0.423091, -0.409948, 2.0717),\n",
              "    PointCloud with 8695 points.,\n",
              "    'other')]),\n",
              " (PointCloud with 754501 points.,\n",
              "  [(AxisAlignedBoundingBox: min: (-0.88388, -0.658106, 1.38379), max: (-0.450574, -0.36025, 2.40737),\n",
              "    PointCloud with 6497 points.,\n",
              "    'other')]),\n",
              " (PointCloud with 743398 points.,\n",
              "  [(AxisAlignedBoundingBox: min: (-0.938433, -0.459752, 1.15986), max: (-0.232756, 0.482026, 3.14008),\n",
              "    PointCloud with 35464 points.,\n",
              "    'human')]),\n",
              " (PointCloud with 756336 points.,\n",
              "  [(AxisAlignedBoundingBox: min: (-1.10522, -0.464145, 1.19076), max: (-0.305744, 0.109087, 3.12164),\n",
              "    PointCloud with 24747 points.,\n",
              "    'human'),\n",
              "   (AxisAlignedBoundingBox: min: (-0.91894, -0.73106, 1.59602), max: (-0.565331, -0.573968, 2.13223),\n",
              "    PointCloud with 4963 points.,\n",
              "    'other')]),\n",
              " (PointCloud with 747000 points.,\n",
              "  [(AxisAlignedBoundingBox: min: (-0.860979, -0.0259105, 2.22803), max: (-0.129746, 0.581178, 3.15557),\n",
              "    PointCloud with 20931 points.,\n",
              "    'human'),\n",
              "   (AxisAlignedBoundingBox: min: (-0.55641, -0.33299, 2.75671), max: (-0.23451, -0.0385498, 3.14285),\n",
              "    PointCloud with 4815 points.,\n",
              "    'other')]),\n",
              " (PointCloud with 744549 points.,\n",
              "  [(AxisAlignedBoundingBox: min: (-0.841241, -0.860046, 1.34097), max: (-0.611091, -0.494582, 1.83132),\n",
              "    PointCloud with 2369 points.,\n",
              "    'other')]),\n",
              " (PointCloud with 747601 points.,\n",
              "  [(AxisAlignedBoundingBox: min: (-0.489614, -0.389879, 2.42974), max: (-0.361804, -0.239542, 3.08207),\n",
              "    PointCloud with 917 points.,\n",
              "    'other')]),\n",
              " (PointCloud with 760331 points., []),\n",
              " (PointCloud with 749034 points.,\n",
              "  [(AxisAlignedBoundingBox: min: (-0.650298, -0.500557, 2.04427), max: (-0.539492, -0.34801, 2.54475),\n",
              "    PointCloud with 648 points.,\n",
              "    'other')]),\n",
              " (PointCloud with 746593 points.,\n",
              "  [(AxisAlignedBoundingBox: min: (-0.755179, -0.609951, 1.44874), max: (-0.49216, -0.340583, 2.4368),\n",
              "    PointCloud with 2931 points.,\n",
              "    'wear')]),\n",
              " (PointCloud with 749845 points.,\n",
              "  [(AxisAlignedBoundingBox: min: (-0.791875, -0.735495, 1.61649), max: (-0.587417, -0.488295, 1.92082),\n",
              "    PointCloud with 1796 points.,\n",
              "    'other')]),\n",
              " (PointCloud with 780366 points.,\n",
              "  [(AxisAlignedBoundingBox: min: (-0.630293, -0.355197, 2.28138), max: (-0.0116228, 0.554732, 3.1417),\n",
              "    PointCloud with 24717 points.,\n",
              "    'human')]),\n",
              " (PointCloud with 748391 points.,\n",
              "  [(AxisAlignedBoundingBox: min: (-0.890767, -0.31154, 2.30562), max: (-0.0989428, 0.438816, 3.1384),\n",
              "    PointCloud with 25346 points.,\n",
              "    'human')]),\n",
              " (PointCloud with 749301 points.,\n",
              "  [(AxisAlignedBoundingBox: min: (-0.981075, -0.80016, 1.15929), max: (-0.623857, -0.566731, 2.09412),\n",
              "    PointCloud with 5112 points.,\n",
              "    'wear')]),\n",
              " (PointCloud with 752583 points.,\n",
              "  [(AxisAlignedBoundingBox: min: (-0.741091, -0.43809, 2.14239), max: (-0.41609, -0.21766, 2.95098),\n",
              "    PointCloud with 2717 points.,\n",
              "    'wear')]),\n",
              " (PointCloud with 756704 points.,\n",
              "  [(AxisAlignedBoundingBox: min: (-0.576376, -0.334922, 2.84874), max: (-0.203551, -0.0758696, 3.19798),\n",
              "    PointCloud with 5526 points.,\n",
              "    'other')]),\n",
              " (PointCloud with 759045 points.,\n",
              "  [(AxisAlignedBoundingBox: min: (-0.63727, -0.425623, 2.21132), max: (-0.27426, -0.260081, 3.06548),\n",
              "    PointCloud with 5734 points.,\n",
              "    'wear')]),\n",
              " (PointCloud with 761346 points.,\n",
              "  [(AxisAlignedBoundingBox: min: (-0.79299, -0.499368, 1.36104), max: (-0.14598, -0.1208, 3.16908),\n",
              "    PointCloud with 18855 points.,\n",
              "    'human')]),\n",
              " (PointCloud with 750709 points.,\n",
              "  [(AxisAlignedBoundingBox: min: (-1.20921, -0.348833, 1.49058), max: (-0.250594, 0.592453, 3.12226),\n",
              "    PointCloud with 35858 points.,\n",
              "    'human')]),\n",
              " (PointCloud with 763455 points.,\n",
              "  [(AxisAlignedBoundingBox: min: (-1.42199, -0.562758, 1.24598), max: (-0.29317, 0.300843, 3.11353),\n",
              "    PointCloud with 48124 points.,\n",
              "    'human')]),\n",
              " (PointCloud with 758785 points.,\n",
              "  [(AxisAlignedBoundingBox: min: (-1.24866, -0.358172, 1.19594), max: (-0.24375, 0.402738, 3.14926),\n",
              "    PointCloud with 36936 points.,\n",
              "    'human'),\n",
              "   (AxisAlignedBoundingBox: min: (-0.737286, -0.599824, 1.82673), max: (-0.530454, -0.403393, 2.23311),\n",
              "    PointCloud with 2389 points.,\n",
              "    'wear')]),\n",
              " (PointCloud with 758953 points.,\n",
              "  [(AxisAlignedBoundingBox: min: (-0.765408, -0.321138, 2.24884), max: (-0.225942, 0.0908128, 3.16377),\n",
              "    PointCloud with 14672 points.,\n",
              "    'human'),\n",
              "   (AxisAlignedBoundingBox: min: (0.0334703, 0.850415, 2.25345), max: (0.612712, 1.12553, 3.12078),\n",
              "    PointCloud with 4427 points.,\n",
              "    'human')]),\n",
              " (PointCloud with 713348 points.,\n",
              "  [(AxisAlignedBoundingBox: min: (-0.188862, -0.118391, 1.6397), max: (0.661781, 0.633904, 3.16376),\n",
              "    PointCloud with 24891 points.,\n",
              "    'human'),\n",
              "   (AxisAlignedBoundingBox: min: (-0.763305, -0.852329, 1.15458), max: (-0.105427, -0.0121545, 2.96308),\n",
              "    PointCloud with 29910 points.,\n",
              "    'human')]),\n",
              " (PointCloud with 712510 points.,\n",
              "  [(AxisAlignedBoundingBox: min: (0.659539, 0.321831, 1.42206), max: (2.03647, 1.15691, 3.12916),\n",
              "    PointCloud with 52846 points.,\n",
              "    'human'),\n",
              "   (AxisAlignedBoundingBox: min: (-0.684266, -1.28949, 1.26262), max: (0.114357, -0.311452, 2.76242),\n",
              "    PointCloud with 40017 points.,\n",
              "    'human'),\n",
              "   (AxisAlignedBoundingBox: min: (-0.413581, -0.381976, 2.37464), max: (-0.18438, 0.123809, 3.14672),\n",
              "    PointCloud with 4726 points.,\n",
              "    'other')]),\n",
              " (PointCloud with 716227 points.,\n",
              "  [(AxisAlignedBoundingBox: min: (-0.190536, -0.165605, 1.45423), max: (0.297831, 0.626755, 2.98903),\n",
              "    PointCloud with 20859 points.,\n",
              "    'human'),\n",
              "   (AxisAlignedBoundingBox: min: (-0.426766, -0.580193, 2.21246), max: (-0.195999, 0.610501, 3.11786),\n",
              "    PointCloud with 13375 points.,\n",
              "    'other')]),\n",
              " (PointCloud with 708038 points.,\n",
              "  [(AxisAlignedBoundingBox: min: (-1.04325, 0.139394, 1.43549), max: (-0.137577, 1.00061, 3.17644),\n",
              "    PointCloud with 31026 points.,\n",
              "    'human'),\n",
              "   (AxisAlignedBoundingBox: min: (0.448229, 0.17212, 1.57328), max: (1.1929, 0.823299, 3.1252),\n",
              "    PointCloud with 27938 points.,\n",
              "    'human'),\n",
              "   (AxisAlignedBoundingBox: min: (-0.916709, -0.761146, 1.32983), max: (-0.173943, -0.125964, 3.09242),\n",
              "    PointCloud with 23125 points.,\n",
              "    'human')]),\n",
              " (PointCloud with 715795 points.,\n",
              "  [(AxisAlignedBoundingBox: min: (0.247399, 0.00138656, 1.4971), max: (1.03263, 0.789015, 3.09869),\n",
              "    PointCloud with 30468 points.,\n",
              "    'human'),\n",
              "   (AxisAlignedBoundingBox: min: (0.114843, 0.740583, 1.87727), max: (0.754352, 1.18407, 3.14769),\n",
              "    PointCloud with 11461 points.,\n",
              "    'human'),\n",
              "   (AxisAlignedBoundingBox: min: (-0.702596, -0.802938, 1.36348), max: (0.0291682, -0.211374, 3.11313),\n",
              "    PointCloud with 30656 points.,\n",
              "    'human'),\n",
              "   (AxisAlignedBoundingBox: min: (-1.24149, -0.512031, 1.47274), max: (-0.481479, 0.162914, 3.09983),\n",
              "    PointCloud with 27951 points.,\n",
              "    'human'),\n",
              "   (AxisAlignedBoundingBox: min: (-1.00038, -1.28692, 1.79587), max: (-0.398591, -0.706163, 3.10714),\n",
              "    PointCloud with 18515 points.,\n",
              "    'human')]),\n",
              " (PointCloud with 695241 points.,\n",
              "  [(AxisAlignedBoundingBox: min: (-0.0123764, -0.253546, 1.4649), max: (0.558956, 0.289017, 3.16944),\n",
              "    PointCloud with 17375 points.,\n",
              "    'human'),\n",
              "   (AxisAlignedBoundingBox: min: (-0.508069, 0.0662941, 1.43982), max: (0.0888787, 0.759321, 3.12648),\n",
              "    PointCloud with 21230 points.,\n",
              "    'human'),\n",
              "   (AxisAlignedBoundingBox: min: (-1.96227, 0.546123, 1.71324), max: (-0.956667, 1.08959, 3.22706),\n",
              "    PointCloud with 25537 points.,\n",
              "    'human'),\n",
              "   (AxisAlignedBoundingBox: min: (-1.68562, -0.155204, 1.38602), max: (-0.688977, 0.481602, 3.13175),\n",
              "    PointCloud with 34584 points.,\n",
              "    'human'),\n",
              "   (AxisAlignedBoundingBox: min: (-1.10135, -0.569953, 1.54805), max: (-0.459557, -0.0419492, 3.00536),\n",
              "    PointCloud with 19093 points.,\n",
              "    'human')]),\n",
              " (PointCloud with 686520 points.,\n",
              "  [(AxisAlignedBoundingBox: min: (-0.879691, 0.16595, 1.43777), max: (-0.153838, 0.90409, 3.18031),\n",
              "    PointCloud with 27725 points.,\n",
              "    'human')]),\n",
              " (PointCloud with 698126 points.,\n",
              "  [(AxisAlignedBoundingBox: min: (0.160598, -0.143458, 1.49885), max: (1.04373, 0.503284, 3.17641),\n",
              "    PointCloud with 27481 points.,\n",
              "    'human'),\n",
              "   (AxisAlignedBoundingBox: min: (-0.626476, -0.504593, 1.50033), max: (-0.0172275, 0.0844201, 3.12886),\n",
              "    PointCloud with 21972 points.,\n",
              "    'human'),\n",
              "   (AxisAlignedBoundingBox: min: (-0.0932869, -1.15884, 1.35308), max: (0.467619, -0.349001, 3.11483),\n",
              "    PointCloud with 33914 points.,\n",
              "    'human')]),\n",
              " (PointCloud with 696776 points.,\n",
              "  [(AxisAlignedBoundingBox: min: (-0.672387, -0.603165, 1.50057), max: (-0.136868, -0.0147799, 3.0894),\n",
              "    PointCloud with 19534 points.,\n",
              "    'human'),\n",
              "   (AxisAlignedBoundingBox: min: (-1.14419, 0.336233, 1.67849), max: (-0.307323, 1.16651, 3.16207),\n",
              "    PointCloud with 32307 points.,\n",
              "    'human'),\n",
              "   (AxisAlignedBoundingBox: min: (-1.84726, -0.0463799, 1.47692), max: (-1.13066, 1.01967, 3.22926),\n",
              "    PointCloud with 41748 points.,\n",
              "    'human')]),\n",
              " (PointCloud with 702342 points.,\n",
              "  [(AxisAlignedBoundingBox: min: (0.369426, 0.428304, 1.5163), max: (1.26129, 1.1642, 3.18628),\n",
              "    PointCloud with 28925 points.,\n",
              "    'human'),\n",
              "   (AxisAlignedBoundingBox: min: (-1.08208, 0.0962109, 1.47255), max: (-0.292031, 0.71447, 3.14294),\n",
              "    PointCloud with 29009 points.,\n",
              "    'human'),\n",
              "   (AxisAlignedBoundingBox: min: (-1.71622, -0.0648429, 1.42617), max: (-0.887635, 0.498194, 3.17438),\n",
              "    PointCloud with 34798 points.,\n",
              "    'human'),\n",
              "   (AxisAlignedBoundingBox: min: (-0.65397, -1.10371, 1.23346), max: (0.0141335, -0.362237, 3.02491),\n",
              "    PointCloud with 40962 points.,\n",
              "    'human'),\n",
              "   (AxisAlignedBoundingBox: min: (-0.646876, -0.288767, 2.2605), max: (0.00947758, 0.0688069, 3.09639),\n",
              "    PointCloud with 4954 points.,\n",
              "    'other')]),\n",
              " (PointCloud with 710339 points.,\n",
              "  [(AxisAlignedBoundingBox: min: (-0.202233, 0.113866, 1.48333), max: (0.365807, 0.686222, 3.06171),\n",
              "    PointCloud with 17428 points.,\n",
              "    'human'),\n",
              "   (AxisAlignedBoundingBox: min: (0.327753, 0.495253, 1.51412), max: (1.10605, 1.10612, 3.15795),\n",
              "    PointCloud with 27145 points.,\n",
              "    'human'),\n",
              "   (AxisAlignedBoundingBox: min: (0.68063, -0.072451, 1.45976), max: (1.50257, 0.586342, 3.11779),\n",
              "    PointCloud with 29399 points.,\n",
              "    'human'),\n",
              "   (AxisAlignedBoundingBox: min: (-1.42507, -0.160843, 1.54213), max: (-0.561499, 0.476, 3.12259),\n",
              "    PointCloud with 36346 points.,\n",
              "    'human'),\n",
              "   (AxisAlignedBoundingBox: min: (-0.418466, -0.84761, 1.33675), max: (0.225828, -0.133798, 3.02945),\n",
              "    PointCloud with 23239 points.,\n",
              "    'human')]),\n",
              " (PointCloud with 724197 points.,\n",
              "  [(AxisAlignedBoundingBox: min: (0.745937, 0.0278861, 1.45649), max: (1.73786, 0.547396, 3.10156),\n",
              "    PointCloud with 32638 points.,\n",
              "    'human'),\n",
              "   (AxisAlignedBoundingBox: min: (0.663996, 0.527243, 1.4247), max: (1.78549, 1.17062, 3.14415),\n",
              "    PointCloud with 36300 points.,\n",
              "    'human'),\n",
              "   (AxisAlignedBoundingBox: min: (0.0333237, -0.186315, 1.52214), max: (0.640516, 0.295743, 3.11844),\n",
              "    PointCloud with 17381 points.,\n",
              "    'human'),\n",
              "   (AxisAlignedBoundingBox: min: (-0.263542, 0.134159, 2.57174), max: (0.348572, 0.433511, 3.14999),\n",
              "    PointCloud with 9854 points.,\n",
              "    'other'),\n",
              "   (AxisAlignedBoundingBox: min: (-1.95402, -0.198946, 1.38042), max: (-0.889294, 0.820005, 3.12893),\n",
              "    PointCloud with 62834 points.,\n",
              "    'human'),\n",
              "   (AxisAlignedBoundingBox: min: (-0.922993, -1.12223, 2.12497), max: (-0.363631, 0.0751059, 3.08673),\n",
              "    PointCloud with 46830 points.,\n",
              "    'other')]),\n",
              " (PointCloud with 720794 points.,\n",
              "  [(AxisAlignedBoundingBox: min: (-1.12, -1.32367, 1.33252), max: (-0.409563, 0.0314117, 3.10559),\n",
              "    PointCloud with 36494 points.,\n",
              "    'human')]),\n",
              " (PointCloud with 691393 points.,\n",
              "  [(AxisAlignedBoundingBox: min: (-1.54766, -0.275929, 1.21638), max: (-0.415192, 1.0531, 3.12159),\n",
              "    PointCloud with 58130 points.,\n",
              "    'human')]),\n",
              " (PointCloud with 700154 points.,\n",
              "  [(AxisAlignedBoundingBox: min: (-0.271692, 0.00799865, 1.41721), max: (0.283113, 0.645095, 3.11383),\n",
              "    PointCloud with 16188 points.,\n",
              "    'human'),\n",
              "   (AxisAlignedBoundingBox: min: (0.628355, 0.0497457, 1.36936), max: (1.66111, 1.10062, 3.15575),\n",
              "    PointCloud with 47482 points.,\n",
              "    'human'),\n",
              "   (AxisAlignedBoundingBox: min: (0.0360218, 0.730161, 2.06021), max: (0.499744, 1.26493, 3.16971),\n",
              "    PointCloud with 9365 points.,\n",
              "    'human'),\n",
              "   (AxisAlignedBoundingBox: min: (-1.92305, 0.370876, 2.07456), max: (-1.36471, 0.93146, 3.24115),\n",
              "    PointCloud with 16008 points.,\n",
              "    'human'),\n",
              "   (AxisAlignedBoundingBox: min: (-1.92141, -0.0896336, 1.44714), max: (-0.648294, 0.4257, 3.14193),\n",
              "    PointCloud with 32626 points.,\n",
              "    'human'),\n",
              "   (AxisAlignedBoundingBox: min: (-1.01447, -1.23537, 1.60449), max: (-0.424458, -0.215067, 3.11526),\n",
              "    PointCloud with 43754 points.,\n",
              "    'human'),\n",
              "   (AxisAlignedBoundingBox: min: (-1.69887, -1.1701, 1.37991), max: (-1.07496, -0.181348, 3.17896),\n",
              "    PointCloud with 42255 points.,\n",
              "    'human')]),\n",
              " (PointCloud with 718339 points.,\n",
              "  [(AxisAlignedBoundingBox: min: (-0.336584, 0.0445599, 1.71748), max: (0.283415, 0.968319, 3.19155),\n",
              "    PointCloud with 25945 points.,\n",
              "    'human'),\n",
              "   (AxisAlignedBoundingBox: min: (-0.686463, -0.127438, 2.00522), max: (-0.24823, 0.335644, 3.1271),\n",
              "    PointCloud with 10318 points.,\n",
              "    'human'),\n",
              "   (AxisAlignedBoundingBox: min: (-1.44851, -0.530614, 1.36709), max: (-0.589079, 0.151692, 3.11213),\n",
              "    PointCloud with 32201 points.,\n",
              "    'human'),\n",
              "   (AxisAlignedBoundingBox: min: (-1.11739, -1.31751, 1.75467), max: (-0.494055, -0.550729, 3.0137),\n",
              "    PointCloud with 18993 points.,\n",
              "    'human')]),\n",
              " (PointCloud with 724496 points.,\n",
              "  [(AxisAlignedBoundingBox: min: (-0.901179, -0.595776, 1.62081), max: (-0.0975181, 0.0227515, 3.06987),\n",
              "    PointCloud with 27526 points.,\n",
              "    'human'),\n",
              "   (AxisAlignedBoundingBox: min: (-0.398608, 0.186533, 1.50831), max: (0.0337802, 0.678872, 3.1409),\n",
              "    PointCloud with 14438 points.,\n",
              "    'human'),\n",
              "   (AxisAlignedBoundingBox: min: (-0.897626, 0.529607, 1.5208), max: (-0.179088, 1.16554, 3.12001),\n",
              "    PointCloud with 27458 points.,\n",
              "    'human')]),\n",
              " (PointCloud with 758031 points.,\n",
              "  [(AxisAlignedBoundingBox: min: (-0.249536, -0.664972, 1.34415), max: (0.504819, -0.00239909, 3.07191),\n",
              "    PointCloud with 24217 points.,\n",
              "    'human')]),\n",
              " (PointCloud with 732688 points.,\n",
              "  [(AxisAlignedBoundingBox: min: (-1.03116, -0.828144, 1.55878), max: (-0.494955, 0.0405385, 3.23673),\n",
              "    PointCloud with 32049 points.,\n",
              "    'human'),\n",
              "   (AxisAlignedBoundingBox: min: (-1.61122, 0.0439231, 1.35057), max: (-0.582111, 0.645331, 3.12276),\n",
              "    PointCloud with 29408 points.,\n",
              "    'human'),\n",
              "   (AxisAlignedBoundingBox: min: (-0.609208, 0.124652, 1.46025), max: (0.100436, 0.94212, 3.14705),\n",
              "    PointCloud with 26993 points.,\n",
              "    'human'),\n",
              "   (AxisAlignedBoundingBox: min: (0.121788, -0.269704, 1.59408), max: (0.83103, 0.29497, 3.09532),\n",
              "    PointCloud with 20349 points.,\n",
              "    'human'),\n",
              "   (AxisAlignedBoundingBox: min: (0.847498, -0.0218151, 1.50987), max: (1.7404, 0.673968, 3.13366),\n",
              "    PointCloud with 39895 points.,\n",
              "    'human'),\n",
              "   (AxisAlignedBoundingBox: min: (0.609171, 0.666065, 1.69414), max: (1.77335, 1.11874, 3.12974),\n",
              "    PointCloud with 17820 points.,\n",
              "    'human')]),\n",
              " (PointCloud with 741067 points.,\n",
              "  [(AxisAlignedBoundingBox: min: (0.057598, -0.216887, 1.51631), max: (0.6815, 0.364932, 3.15791),\n",
              "    PointCloud with 17571 points.,\n",
              "    'human'),\n",
              "   (AxisAlignedBoundingBox: min: (-1.37812, -0.281331, 1.67109), max: (-0.691811, 0.210501, 3.17583),\n",
              "    PointCloud with 20236 points.,\n",
              "    'human'),\n",
              "   (AxisAlignedBoundingBox: min: (-0.74272, -0.646009, 1.54517), max: (0.0360295, -0.0748738, 3.06136),\n",
              "    PointCloud with 29569 points.,\n",
              "    'human'),\n",
              "   (AxisAlignedBoundingBox: min: (-0.690565, -1.16305, 1.83756), max: (-0.0542699, -0.69046, 3.0736),\n",
              "    PointCloud with 15614 points.,\n",
              "    'human')])]"
            ]
          },
          "metadata": {},
          "execution_count": 6
        }
      ],
      "source": [
        "pcl_bbox_list"
      ]
    },
    {
      "cell_type": "code",
      "execution_count": 478,
      "metadata": {},
      "outputs": [
        {
          "output_type": "execute_result",
          "data": {
            "text/plain": [
              "{'description': '',\n",
              " 'key': 'e4323724dacf439e84b910601949e934',\n",
              " 'tags': [],\n",
              " 'objects': [{'key': '4757bbc2dc6940a8b4315a1ed9cace1b',\n",
              "   'classTitle': 'human',\n",
              "   'tags': [],\n",
              "   'labelerLogin': 'suhanovroman',\n",
              "   'updatedAt': '2021-05-22T10:14:46.039Z',\n",
              "   'createdAt': '2021-05-22T10:14:46.039Z'},\n",
              "  {'key': '7605150907f44534947c87ab0f0cc30d',\n",
              "   'classTitle': 'other',\n",
              "   'tags': [],\n",
              "   'labelerLogin': 'suhanovroman',\n",
              "   'updatedAt': '2021-05-22T10:23:16.316Z',\n",
              "   'createdAt': '2021-05-22T10:23:16.316Z'}],\n",
              " 'figures': [{'key': '78e11b21f93a4c64853c21b946f0d70c',\n",
              "   'objectKey': '4757bbc2dc6940a8b4315a1ed9cace1b',\n",
              "   'geometryType': 'cuboid_3d',\n",
              "   'geometry': {'position': {'x': 0.36954893856172943,\n",
              "     'y': 0.07402263375818492,\n",
              "     'z': 2.33711201307192},\n",
              "    'rotation': {'x': 0, 'y': 0, 'z': 0},\n",
              "    'dimensions': {'x': 0.6239018898971955,\n",
              "     'y': 0.5818194646144317,\n",
              "     'z': 1.6415971600966917}},\n",
              "   'labelerLogin': 'suhanovroman',\n",
              "   'updatedAt': '2021-05-22T14:24:40.501Z',\n",
              "   'createdAt': '2021-05-22T14:24:10.446Z'},\n",
              "  {'key': '8045ad33681a41ef9b3712612f2dd966',\n",
              "   'objectKey': '4757bbc2dc6940a8b4315a1ed9cace1b',\n",
              "   'geometryType': 'cuboid_3d',\n",
              "   'geometry': {'position': {'x': -1.0349639899317011,\n",
              "     'y': -0.03541482819075993,\n",
              "     'z': 2.4234575583021396},\n",
              "    'rotation': {'x': 0, 'y': -0.00017009695362402152, 'z': 0},\n",
              "    'dimensions': {'x': 0.6863065716757984,\n",
              "     'y': 0.4918314404511267,\n",
              "     'z': 1.504738202783464}},\n",
              "   'labelerLogin': 'suhanovroman',\n",
              "   'updatedAt': '2021-05-22T14:25:20.893Z',\n",
              "   'createdAt': '2021-05-22T14:24:43.864Z'},\n",
              "  {'key': 'd55428a478ed4305a1f2759682b2683e',\n",
              "   'objectKey': '4757bbc2dc6940a8b4315a1ed9cace1b',\n",
              "   'geometryType': 'cuboid_3d',\n",
              "   'geometry': {'position': {'x': -0.3533452258379126,\n",
              "     'y': -0.3604415490370431,\n",
              "     'z': 2.3032631865104953},\n",
              "    'rotation': {'x': 0, 'y': 0, 'z': 0.5886213089991617},\n",
              "    'dimensions': {'x': 0.7787495070695859,\n",
              "     'y': 0.5711354526686415,\n",
              "     'z': 1.5161852260668218}},\n",
              "   'labelerLogin': 'suhanovroman',\n",
              "   'updatedAt': '2021-05-22T14:25:58.490Z',\n",
              "   'createdAt': '2021-05-22T14:25:25.316Z'},\n",
              "  {'key': 'a74643bbbc764facbaf6af0c6da80045',\n",
              "   'objectKey': '4757bbc2dc6940a8b4315a1ed9cace1b',\n",
              "   'geometryType': 'cuboid_3d',\n",
              "   'geometry': {'position': {'x': -0.3724176708207927,\n",
              "     'y': -0.9267529992969824,\n",
              "     'z': 2.455575930489526},\n",
              "    'rotation': {'x': 0, 'y': 0, 'z': 0},\n",
              "    'dimensions': {'x': 0.636295521012695,\n",
              "     'y': 0.47258601631135444,\n",
              "     'z': 1.2360402542941775}},\n",
              "   'labelerLogin': 'suhanovroman',\n",
              "   'updatedAt': '2021-05-22T14:26:23.218Z',\n",
              "   'createdAt': '2021-05-22T14:26:01.285Z'}]}"
            ]
          },
          "metadata": {},
          "execution_count": 478
        }
      ],
      "source": [
        "pcl_lbl"
      ]
    },
    {
      "cell_type": "code",
      "execution_count": 8,
      "metadata": {},
      "outputs": [],
      "source": [
        "bboxpcl_class = []\n",
        "for i, obj in enumerate(pcl_bbox_list):\n",
        "    for j, obj2 in enumerate(obj[1]):\n",
        "        # print(obj2[0], obj2[1], obj2[2])\n",
        "        bboxpcl_class.append((obj2[1], obj2[2]))"
      ]
    },
    {
      "cell_type": "code",
      "execution_count": 9,
      "metadata": {},
      "outputs": [],
      "source": [
        "classes = ['human', 'wear', 'limb', 'other']\n",
        "train_points = [np.asarray(obj[0].points) for obj in bboxpcl_class]\n",
        "train_points2 = []\n",
        "for tp in train_points:\n",
        "    p_indexes = np.random.choice(np.arange(len(tp)), size=NUM_POINTS)\n",
        "    train_points2.append(tp[p_indexes])\n",
        "\n",
        "train_labels = np.array([classes.index(obj[1]) for obj in bboxpcl_class])\n",
        "train_points = np.array(train_points2)"
      ]
    },
    {
      "cell_type": "code",
      "execution_count": 11,
      "metadata": {},
      "outputs": [
        {
          "output_type": "execute_result",
          "data": {
            "text/plain": [
              "196"
            ]
          },
          "metadata": {},
          "execution_count": 11
        }
      ],
      "source": [
        "len(train_labels)"
      ]
    },
    {
      "cell_type": "code",
      "execution_count": 74,
      "metadata": {},
      "outputs": [],
      "source": [
        "def prepare_dataset(data, num_points=2048):\n",
        "    pass"
      ]
    },
    {
      "cell_type": "code",
      "metadata": {
        "id": "DLMI-7E3wHL9"
      },
      "source": [
        "\n",
        "# def augment(points, label):\n",
        "#     # jitter points\n",
        "#     points += tf.random.uniform(points.shape, -0.005, 0.005, dtype=tf.float64)\n",
        "#     # shuffle points\n",
        "#     points = tf.random.shuffle(points)\n",
        "#     return points.numpy(), label\n",
        "\n",
        "\n",
        "# # train_dataset = tf.data.Dataset.from_tensor_slices((train_points, train_labels))\n",
        "# # test_dataset = tf.data.Dataset.from_tensor_slices((test_points, test_labels))\n",
        "\n",
        "# # train_dataset = train_dataset.shuffle(len(train_points)).map(augment).batch(BATCH_SIZE)\n",
        "# # test_dataset = test_dataset.shuffle(len(test_points)).batch(BATCH_SIZE)\n",
        "\n",
        "# def gen_fn(train_points, train_labels):\n",
        "#     def gen():\n",
        "#         for i in range(len(train_points)):\n",
        "#             points, labels = augment(train_points[i], train_labels[i])\n",
        "#             yield np.array([points]), np.array([labels])\n",
        "#     return gen()\n",
        "\n",
        "# def inf_gen_fn(train_points, train_labels):\n",
        "#     def inf_gen():\n",
        "#         while True:\n",
        "#             for i in range(len(train_points)):\n",
        "#                 points, labels = augment(train_points[i], train_labels[i])\n",
        "#                 p_indexes = np.random.choice(np.arange(len(points)), size=NUM_POINTS)\n",
        "#                 points = points[p_indexes]\n",
        "#                 yield np.array([points]), np.array([labels])\n",
        "#     return inf_gen()\n",
        "\n",
        "def augment(points, label):\n",
        "    # jitter points\n",
        "    points += tf.random.uniform(points.shape, -0.01, 0.01, dtype=tf.float64)\n",
        "    # shuffle points\n",
        "    points = tf.random.shuffle(points)\n",
        "    return points, label\n",
        "\n",
        "\n",
        "train_dataset = tf.data.Dataset.from_tensor_slices((train_points, train_labels))\n",
        "# test_dataset = tf.data.Dataset.from_tensor_slices((test_points, test_labels))\n",
        "\n",
        "train_dataset = train_dataset.shuffle(len(train_points)).map(augment).batch(BATCH_SIZE)\n",
        "# test_dataset = test_dataset.shuffle(len(test_points)).batch(BATCH_SIZE)"
      ],
      "execution_count": 20,
      "outputs": []
    },
    {
      "cell_type": "code",
      "execution_count": 21,
      "metadata": {},
      "outputs": [
        {
          "output_type": "execute_result",
          "data": {
            "text/plain": [
              "<BatchDataset shapes: ((None, 4096, 3), (None,)), types: (tf.float64, tf.int64)>"
            ]
          },
          "metadata": {},
          "execution_count": 21
        }
      ],
      "source": [
        "train_dataset"
      ]
    },
    {
      "cell_type": "code",
      "execution_count": 22,
      "metadata": {},
      "outputs": [],
      "source": [
        "# train_gen = inf_gen_fn(train_points, train_labels)"
      ]
    },
    {
      "cell_type": "code",
      "metadata": {
        "id": "_EHQqDEGwHL-"
      },
      "source": [
        "def conv_bn(x, filters):\n",
        "    x = layers.Conv1D(filters, kernel_size=1, padding=\"valid\")(x)\n",
        "    x = layers.BatchNormalization(momentum=0.0)(x)\n",
        "    return layers.Activation(\"relu\")(x)\n",
        "\n",
        "\n",
        "def dense_bn(x, filters):\n",
        "    x = layers.Dense(filters)(x)\n",
        "    x = layers.BatchNormalization(momentum=0.0)(x)\n",
        "    return layers.Activation(\"relu\")(x)\n"
      ],
      "execution_count": 23,
      "outputs": []
    },
    {
      "cell_type": "code",
      "metadata": {
        "id": "kTqQH1u5wHL_"
      },
      "source": [
        "\n",
        "class OrthogonalRegularizer(keras.regularizers.Regularizer):\n",
        "    def __init__(self, num_features, l2reg=0.001):\n",
        "        self.num_features = num_features\n",
        "        self.l2reg = l2reg\n",
        "        self.eye = tf.eye(num_features)\n",
        "\n",
        "    def __call__(self, x):\n",
        "        x = tf.reshape(x, (-1, self.num_features, self.num_features))\n",
        "        xxt = tf.tensordot(x, x, axes=(2, 2))\n",
        "        xxt = tf.reshape(xxt, (-1, self.num_features, self.num_features))\n",
        "        return tf.reduce_sum(self.l2reg * tf.square(xxt - self.eye))\n"
      ],
      "execution_count": 24,
      "outputs": []
    },
    {
      "cell_type": "markdown",
      "metadata": {
        "id": "hEtf7TQIwHL_"
      },
      "source": [
        " We can then define a general function to build T-net layers.\n"
      ]
    },
    {
      "cell_type": "code",
      "metadata": {
        "id": "i1pOuwvOwHL_"
      },
      "source": [
        "def tnet(inputs, num_features):\n",
        "\n",
        "    # Initalise bias as the indentity matrix\n",
        "    bias = keras.initializers.Constant(np.eye(num_features).flatten())\n",
        "    reg = OrthogonalRegularizer(num_features)\n",
        "\n",
        "    x = conv_bn(inputs, 32)\n",
        "    x = conv_bn(x, 64)\n",
        "    x = conv_bn(x, 512)\n",
        "    x = layers.GlobalMaxPooling1D()(x)\n",
        "    x = dense_bn(x, 256)\n",
        "    x = dense_bn(x, 128)\n",
        "    x = layers.Dense(\n",
        "        num_features * num_features,\n",
        "        kernel_initializer=\"zeros\",\n",
        "        bias_initializer=bias,\n",
        "        activity_regularizer=reg,\n",
        "    )(x)\n",
        "    feat_T = layers.Reshape((num_features, num_features))(x)\n",
        "    # Apply affine transformation to input features\n",
        "    return layers.Dot(axes=(2, 1))([inputs, feat_T])\n"
      ],
      "execution_count": 25,
      "outputs": []
    },
    {
      "cell_type": "code",
      "metadata": {
        "colab": {
          "base_uri": "https://localhost:8080/"
        },
        "id": "Gyn6e_rowHL_",
        "outputId": "7f0d195c-f552-4c8f-ba6f-02ac925dc8e9"
      },
      "source": [
        "inputs = keras.Input(shape=(NUM_POINTS, 3))\n",
        "\n",
        "x = tnet(inputs, 3)\n",
        "x = conv_bn(x, 32)\n",
        "x = conv_bn(x, 32)\n",
        "x = tnet(x, 32)\n",
        "x = conv_bn(x, 64)\n",
        "x = conv_bn(x, 64)\n",
        "x = conv_bn(x, 512)\n",
        "x = layers.GlobalMaxPooling1D()(x)\n",
        "x = dense_bn(x, 256)\n",
        "x = layers.Dropout(0.6)(x)\n",
        "x = dense_bn(x, 128)\n",
        "x = layers.Dropout(0.6)(x)\n",
        "\n",
        "outputs = layers.Dense(NUM_CLASSES, activation=\"softmax\")(x)\n",
        "\n",
        "model = keras.Model(inputs=inputs, outputs=outputs, name=\"pointnet\")\n",
        "model.summary()"
      ],
      "execution_count": 26,
      "outputs": [
        {
          "output_type": "stream",
          "name": "stdout",
          "text": [
            "Model: \"pointnet\"\n__________________________________________________________________________________________________\nLayer (type)                    Output Shape         Param #     Connected to                     \n==================================================================================================\ninput_2 (InputLayer)            [(None, 4096, 3)]    0                                            \n__________________________________________________________________________________________________\nconv1d_11 (Conv1D)              (None, 4096, 32)     128         input_2[0][0]                    \n__________________________________________________________________________________________________\nbatch_normalization_17 (BatchNo (None, 4096, 32)     128         conv1d_11[0][0]                  \n__________________________________________________________________________________________________\nactivation_17 (Activation)      (None, 4096, 32)     0           batch_normalization_17[0][0]     \n__________________________________________________________________________________________________\nconv1d_12 (Conv1D)              (None, 4096, 64)     2112        activation_17[0][0]              \n__________________________________________________________________________________________________\nbatch_normalization_18 (BatchNo (None, 4096, 64)     256         conv1d_12[0][0]                  \n__________________________________________________________________________________________________\nactivation_18 (Activation)      (None, 4096, 64)     0           batch_normalization_18[0][0]     \n__________________________________________________________________________________________________\nconv1d_13 (Conv1D)              (None, 4096, 512)    33280       activation_18[0][0]              \n__________________________________________________________________________________________________\nbatch_normalization_19 (BatchNo (None, 4096, 512)    2048        conv1d_13[0][0]                  \n__________________________________________________________________________________________________\nactivation_19 (Activation)      (None, 4096, 512)    0           batch_normalization_19[0][0]     \n__________________________________________________________________________________________________\nglobal_max_pooling1d_3 (GlobalM (None, 512)          0           activation_19[0][0]              \n__________________________________________________________________________________________________\ndense_9 (Dense)                 (None, 256)          131328      global_max_pooling1d_3[0][0]     \n__________________________________________________________________________________________________\nbatch_normalization_20 (BatchNo (None, 256)          1024        dense_9[0][0]                    \n__________________________________________________________________________________________________\nactivation_20 (Activation)      (None, 256)          0           batch_normalization_20[0][0]     \n__________________________________________________________________________________________________\ndense_10 (Dense)                (None, 128)          32896       activation_20[0][0]              \n__________________________________________________________________________________________________\nbatch_normalization_21 (BatchNo (None, 128)          512         dense_10[0][0]                   \n__________________________________________________________________________________________________\nactivation_21 (Activation)      (None, 128)          0           batch_normalization_21[0][0]     \n__________________________________________________________________________________________________\ndense_11 (Dense)                (None, 9)            1161        activation_21[0][0]              \n__________________________________________________________________________________________________\nreshape_2 (Reshape)             (None, 3, 3)         0           dense_11[0][0]                   \n__________________________________________________________________________________________________\ndot_2 (Dot)                     (None, 4096, 3)      0           input_2[0][0]                    \n                                                                 reshape_2[0][0]                  \n__________________________________________________________________________________________________\nconv1d_14 (Conv1D)              (None, 4096, 32)     128         dot_2[0][0]                      \n__________________________________________________________________________________________________\nbatch_normalization_22 (BatchNo (None, 4096, 32)     128         conv1d_14[0][0]                  \n__________________________________________________________________________________________________\nactivation_22 (Activation)      (None, 4096, 32)     0           batch_normalization_22[0][0]     \n__________________________________________________________________________________________________\nconv1d_15 (Conv1D)              (None, 4096, 32)     1056        activation_22[0][0]              \n__________________________________________________________________________________________________\nbatch_normalization_23 (BatchNo (None, 4096, 32)     128         conv1d_15[0][0]                  \n__________________________________________________________________________________________________\nactivation_23 (Activation)      (None, 4096, 32)     0           batch_normalization_23[0][0]     \n__________________________________________________________________________________________________\nconv1d_16 (Conv1D)              (None, 4096, 32)     1056        activation_23[0][0]              \n__________________________________________________________________________________________________\nbatch_normalization_24 (BatchNo (None, 4096, 32)     128         conv1d_16[0][0]                  \n__________________________________________________________________________________________________\nactivation_24 (Activation)      (None, 4096, 32)     0           batch_normalization_24[0][0]     \n__________________________________________________________________________________________________\nconv1d_17 (Conv1D)              (None, 4096, 64)     2112        activation_24[0][0]              \n__________________________________________________________________________________________________\nbatch_normalization_25 (BatchNo (None, 4096, 64)     256         conv1d_17[0][0]                  \n__________________________________________________________________________________________________\nactivation_25 (Activation)      (None, 4096, 64)     0           batch_normalization_25[0][0]     \n__________________________________________________________________________________________________\nconv1d_18 (Conv1D)              (None, 4096, 512)    33280       activation_25[0][0]              \n__________________________________________________________________________________________________\nbatch_normalization_26 (BatchNo (None, 4096, 512)    2048        conv1d_18[0][0]                  \n__________________________________________________________________________________________________\nactivation_26 (Activation)      (None, 4096, 512)    0           batch_normalization_26[0][0]     \n__________________________________________________________________________________________________\nglobal_max_pooling1d_4 (GlobalM (None, 512)          0           activation_26[0][0]              \n__________________________________________________________________________________________________\ndense_12 (Dense)                (None, 256)          131328      global_max_pooling1d_4[0][0]     \n__________________________________________________________________________________________________\nbatch_normalization_27 (BatchNo (None, 256)          1024        dense_12[0][0]                   \n__________________________________________________________________________________________________\nactivation_27 (Activation)      (None, 256)          0           batch_normalization_27[0][0]     \n__________________________________________________________________________________________________\ndense_13 (Dense)                (None, 128)          32896       activation_27[0][0]              \n__________________________________________________________________________________________________\nbatch_normalization_28 (BatchNo (None, 128)          512         dense_13[0][0]                   \n__________________________________________________________________________________________________\nactivation_28 (Activation)      (None, 128)          0           batch_normalization_28[0][0]     \n__________________________________________________________________________________________________\ndense_14 (Dense)                (None, 1024)         132096      activation_28[0][0]              \n__________________________________________________________________________________________________\nreshape_3 (Reshape)             (None, 32, 32)       0           dense_14[0][0]                   \n__________________________________________________________________________________________________\ndot_3 (Dot)                     (None, 4096, 32)     0           activation_23[0][0]              \n                                                                 reshape_3[0][0]                  \n__________________________________________________________________________________________________\nconv1d_19 (Conv1D)              (None, 4096, 64)     2112        dot_3[0][0]                      \n__________________________________________________________________________________________________\nbatch_normalization_29 (BatchNo (None, 4096, 64)     256         conv1d_19[0][0]                  \n__________________________________________________________________________________________________\nactivation_29 (Activation)      (None, 4096, 64)     0           batch_normalization_29[0][0]     \n__________________________________________________________________________________________________\nconv1d_20 (Conv1D)              (None, 4096, 64)     4160        activation_29[0][0]              \n__________________________________________________________________________________________________\nbatch_normalization_30 (BatchNo (None, 4096, 64)     256         conv1d_20[0][0]                  \n__________________________________________________________________________________________________\nactivation_30 (Activation)      (None, 4096, 64)     0           batch_normalization_30[0][0]     \n__________________________________________________________________________________________________\nconv1d_21 (Conv1D)              (None, 4096, 512)    33280       activation_30[0][0]              \n__________________________________________________________________________________________________\nbatch_normalization_31 (BatchNo (None, 4096, 512)    2048        conv1d_21[0][0]                  \n__________________________________________________________________________________________________\nactivation_31 (Activation)      (None, 4096, 512)    0           batch_normalization_31[0][0]     \n__________________________________________________________________________________________________\nglobal_max_pooling1d_5 (GlobalM (None, 512)          0           activation_31[0][0]              \n__________________________________________________________________________________________________\ndense_15 (Dense)                (None, 256)          131328      global_max_pooling1d_5[0][0]     \n__________________________________________________________________________________________________\nbatch_normalization_32 (BatchNo (None, 256)          1024        dense_15[0][0]                   \n__________________________________________________________________________________________________\nactivation_32 (Activation)      (None, 256)          0           batch_normalization_32[0][0]     \n__________________________________________________________________________________________________\ndropout_2 (Dropout)             (None, 256)          0           activation_32[0][0]              \n__________________________________________________________________________________________________\ndense_16 (Dense)                (None, 128)          32896       dropout_2[0][0]                  \n__________________________________________________________________________________________________\nbatch_normalization_33 (BatchNo (None, 128)          512         dense_16[0][0]                   \n__________________________________________________________________________________________________\nactivation_33 (Activation)      (None, 128)          0           batch_normalization_33[0][0]     \n__________________________________________________________________________________________________\ndropout_3 (Dropout)             (None, 128)          0           activation_33[0][0]              \n__________________________________________________________________________________________________\ndense_17 (Dense)                (None, 4)            516         dropout_3[0][0]                  \n==================================================================================================\nTotal params: 751,437\nTrainable params: 745,293\nNon-trainable params: 6,144\n__________________________________________________________________________________________________\n"
          ]
        }
      ]
    },
    {
      "cell_type": "code",
      "metadata": {
        "colab": {
          "base_uri": "https://localhost:8080/",
          "height": 374
        },
        "id": "kBtfRWwywHMA",
        "outputId": "0b985e0b-34a9-42da-97a0-c22fd9fb2ef8"
      },
      "source": [
        "model.compile(\n",
        "    loss=\"sparse_categorical_crossentropy\",\n",
        "    optimizer=keras.optimizers.Adam(),\n",
        "    metrics=[\"sparse_categorical_accuracy\"],\n",
        ")\n",
        "\n",
        "model.fit(train_dataset, epochs=5)"
      ],
      "execution_count": 27,
      "outputs": [
        {
          "output_type": "stream",
          "name": "stdout",
          "text": [
            "Epoch 1/5\n",
            "13/13 [==============================] - 17s 1s/step - loss: 3.0841 - sparse_categorical_accuracy: 0.3520\n",
            "Epoch 2/5\n",
            "13/13 [==============================] - 17s 1s/step - loss: 2.1938 - sparse_categorical_accuracy: 0.5510\n",
            "Epoch 3/5\n",
            "13/13 [==============================] - 17s 1s/step - loss: 1.6606 - sparse_categorical_accuracy: 0.6684\n",
            "Epoch 4/5\n",
            "13/13 [==============================] - 17s 1s/step - loss: 1.5499 - sparse_categorical_accuracy: 0.7194\n",
            "Epoch 5/5\n",
            "13/13 [==============================] - 17s 1s/step - loss: 1.4509 - sparse_categorical_accuracy: 0.7296\n"
          ]
        },
        {
          "output_type": "execute_result",
          "data": {
            "text/plain": [
              "<tensorflow.python.keras.callbacks.History at 0x7fc200b7ba00>"
            ]
          },
          "metadata": {},
          "execution_count": 27
        }
      ]
    },
    {
      "cell_type": "code",
      "execution_count": 29,
      "metadata": {},
      "outputs": [
        {
          "output_type": "stream",
          "name": "stdout",
          "text": [
            "Epoch 1/10\n",
            "13/13 [==============================] - 17s 1s/step - loss: 1.0708 - sparse_categorical_accuracy: 0.8010\n",
            "Epoch 2/10\n",
            "13/13 [==============================] - 17s 1s/step - loss: 1.3591 - sparse_categorical_accuracy: 0.7602\n",
            "Epoch 3/10\n",
            "13/13 [==============================] - 17s 1s/step - loss: 1.3639 - sparse_categorical_accuracy: 0.7908\n",
            "Epoch 4/10\n",
            "13/13 [==============================] - 17s 1s/step - loss: 1.2977 - sparse_categorical_accuracy: 0.7653\n",
            "Epoch 5/10\n",
            "13/13 [==============================] - 17s 1s/step - loss: 1.2162 - sparse_categorical_accuracy: 0.7653\n",
            "Epoch 6/10\n",
            "13/13 [==============================] - 17s 1s/step - loss: 1.1998 - sparse_categorical_accuracy: 0.8061\n",
            "Epoch 7/10\n",
            "13/13 [==============================] - 17s 1s/step - loss: 1.2507 - sparse_categorical_accuracy: 0.7602\n",
            "Epoch 8/10\n",
            "13/13 [==============================] - 17s 1s/step - loss: 1.2274 - sparse_categorical_accuracy: 0.7959\n",
            "Epoch 9/10\n",
            "13/13 [==============================] - 17s 1s/step - loss: 1.2290 - sparse_categorical_accuracy: 0.7806\n",
            "Epoch 10/10\n",
            "13/13 [==============================] - 17s 1s/step - loss: 1.1314 - sparse_categorical_accuracy: 0.8112\n"
          ]
        },
        {
          "output_type": "execute_result",
          "data": {
            "text/plain": [
              "<tensorflow.python.keras.callbacks.History at 0x7fc2d4537700>"
            ]
          },
          "metadata": {},
          "execution_count": 29
        }
      ],
      "source": [
        "model.fit(train_dataset, epochs=10)"
      ]
    },
    {
      "cell_type": "code",
      "execution_count": 429,
      "metadata": {},
      "outputs": [
        {
          "output_type": "execute_result",
          "data": {
            "text/plain": [
              "[(PointCloud with 28816 points., 'human'),\n",
              " (PointCloud with 20184 points., 'human'),\n",
              " (PointCloud with 29876 points., 'human'),\n",
              " (PointCloud with 4626 points., 'wear'),\n",
              " (PointCloud with 40868 points., 'human'),\n",
              " (PointCloud with 22442 points., 'human'),\n",
              " (PointCloud with 5554 points., 'wear'),\n",
              " (PointCloud with 3514 points., 'other'),\n",
              " (PointCloud with 49202 points., 'human'),\n",
              " (PointCloud with 6957 points., 'other'),\n",
              " (PointCloud with 31477 points., 'human'),\n",
              " (PointCloud with 25320 points., 'human'),\n",
              " (PointCloud with 6276 points., 'wear'),\n",
              " (PointCloud with 42044 points., 'human'),\n",
              " (PointCloud with 3149 points., 'limb'),\n",
              " (PointCloud with 35464 points., 'human'),\n",
              " (PointCloud with 917 points., 'other'),\n",
              " (PointCloud with 2931 points., 'wear'),\n",
              " (PointCloud with 25346 points., 'human'),\n",
              " (PointCloud with 5526 points., 'other'),\n",
              " (PointCloud with 18855 points., 'human'),\n",
              " (PointCloud with 14672 points., 'human'),\n",
              " (PointCloud with 4427 points., 'human'),\n",
              " (PointCloud with 43086 points., 'human'),\n",
              " (PointCloud with 21663 points., 'human'),\n",
              " (PointCloud with 32887 points., 'human'),\n",
              " (PointCloud with 19962 points., 'human'),\n",
              " (PointCloud with 25421 points., 'human'),\n",
              " (PointCloud with 43218 points., 'human'),\n",
              " (PointCloud with 24286 points., 'human'),\n",
              " (PointCloud with 26445 points., 'human'),\n",
              " (PointCloud with 34923 points., 'human'),\n",
              " (PointCloud with 19276 points., 'human'),\n",
              " (PointCloud with 35821 points., 'human'),\n",
              " (PointCloud with 23290 points., 'human'),\n",
              " (PointCloud with 42042 points., 'human'),\n",
              " (PointCloud with 22015 points., 'human')]"
            ]
          },
          "metadata": {},
          "execution_count": 429
        }
      ],
      "source": [
        "bboxpcl_class"
      ]
    },
    {
      "cell_type": "code",
      "execution_count": 464,
      "metadata": {},
      "outputs": [
        {
          "output_type": "execute_result",
          "data": {
            "text/plain": [
              "0"
            ]
          },
          "metadata": {},
          "execution_count": 464
        }
      ],
      "source": [
        "pred = model.predict(np.asarray([train_points[0]], np.float32))\n",
        "pred.argmax()"
      ]
    },
    {
      "cell_type": "code",
      "execution_count": 30,
      "metadata": {},
      "outputs": [],
      "source": [
        "model.save_weights('./pointnet_weights2.h5')"
      ]
    },
    {
      "cell_type": "code",
      "execution_count": 472,
      "metadata": {},
      "outputs": [],
      "source": [
        "model2.load_weights('./pointnet_weights.h5')"
      ]
    },
    {
      "cell_type": "code",
      "execution_count": 474,
      "metadata": {},
      "outputs": [
        {
          "output_type": "execute_result",
          "data": {
            "text/plain": [
              "3"
            ]
          },
          "metadata": {},
          "execution_count": 474
        }
      ],
      "source": [
        "pred2 = model2.predict(np.asarray([train_points[12]], np.float32))\n",
        "pred2.argmax()"
      ]
    }
  ]
}