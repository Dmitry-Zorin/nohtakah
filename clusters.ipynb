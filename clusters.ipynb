{
 "cells": [
  {
   "cell_type": "code",
   "execution_count": 1,
   "id": "7209ac6d",
   "metadata": {},
   "outputs": [],
   "source": [
    "import open3d as o3d\n",
    "import numpy as np\n",
    "import matplotlib.pyplot as plt\n",
    "from scipy.spatial import KDTree\n",
    "from sklearn.decomposition import PCA\n",
    "from pyntcloud import PyntCloud"
   ]
  },
  {
   "cell_type": "code",
   "execution_count": 2,
   "id": "a7450064",
   "metadata": {},
   "outputs": [],
   "source": [
    "pcd = o3d.io.read_point_cloud('C:/Users/operator/Desktop/point_cloud_gt/clouds_stereo/cloud_2_0013.pcd', remove_nan_points  = True, remove_infinite_points = True)"
   ]
  },
  {
   "cell_type": "code",
   "execution_count": 3,
   "id": "d9c7cc19",
   "metadata": {},
   "outputs": [
    {
     "data": {
      "text/plain": [
       "PointCloud with 741245 points."
      ]
     },
     "execution_count": 3,
     "metadata": {},
     "output_type": "execute_result"
    }
   ],
   "source": [
    "pcd"
   ]
  },
  {
   "cell_type": "code",
   "execution_count": 4,
   "id": "7eab46df",
   "metadata": {},
   "outputs": [],
   "source": [
    "#o3d.visualization.draw_geometries([pcd])"
   ]
  },
  {
   "cell_type": "code",
   "execution_count": 5,
   "id": "7b20d025",
   "metadata": {},
   "outputs": [],
   "source": [
    "point_cloud = np.asarray(pcd.points)"
   ]
  },
  {
   "cell_type": "code",
   "execution_count": 6,
   "id": "fb631e83",
   "metadata": {},
   "outputs": [
    {
     "data": {
      "text/plain": [
       "array([[-1.773    , -1.08     ,  1.4150001],\n",
       "       [-1.77     , -1.08     ,  1.4170001],\n",
       "       [-1.767    , -1.08     ,  1.4250001],\n",
       "       ...,\n",
       "       [ 1.899    ,  1.077    ,  3.2490001],\n",
       "       [ 1.9020001,  1.077    ,  3.2390001],\n",
       "       [ 1.905    ,  1.077    ,  3.2290001]])"
      ]
     },
     "execution_count": 6,
     "metadata": {},
     "output_type": "execute_result"
    }
   ],
   "source": [
    "point_cloud"
   ]
  },
  {
   "cell_type": "code",
   "execution_count": 7,
   "id": "c0004455",
   "metadata": {},
   "outputs": [
    {
     "data": {
      "text/plain": [
       "'\\ndef grid_subsampling(points, voxel_size):\\n    nb_vox=np.ceil((np.max(points, axis=0) - np.min(points, axis=0))/voxel_size)\\n    non_empty_voxel_keys, inverse, nb_pts_per_voxel= np.unique(((points - np.min(points, axis=0)) // voxel_size).astype(int), axis=0, return_inverse=True, return_counts=True)\\n    idx_pts_vox_sorted=np.argsort(inverse)\\n    voxel_grid={}\\n    grid_barycenter,grid_candidate_center=[],[]\\n    last_seen=0\\n\\n    for idx,vox in enumerate(non_empty_voxel_keys):\\n        voxel_grid[tuple(vox)]=points[idx_pts_vox_sorted[last_seen:last_seen+nb_pts_per_voxel[idx]]]\\n        grid_barycenter.append(np.mean(voxel_grid[tuple(vox)],axis=0))\\n        grid_candidate_center.append(voxel_grid[tuple(vox)][np.linalg.norm(voxel_grid[tuple(vox)]-np.mean(voxel_grid[tuple(vox)],axis=0),axis=1).argmin()])\\n        last_seen+=nb_pts_per_voxel[idx]\\n\\n    return grid_candidate_center\\ngrid_sampled_point_cloud_variable = grid_subsampling(point_cloud, 0.05)\\npcd_0 = o3d.geometry.PointCloud()\\npcd_0.points = o3d.utility.Vector3dVector(grid_sampled_point_cloud_variable)\\no3d.visualization.draw_geometries([pcd_0])\\n'"
      ]
     },
     "execution_count": 7,
     "metadata": {},
     "output_type": "execute_result"
    }
   ],
   "source": [
    "'''\n",
    "def grid_subsampling(points, voxel_size):\n",
    "    nb_vox=np.ceil((np.max(points, axis=0) - np.min(points, axis=0))/voxel_size)\n",
    "    non_empty_voxel_keys, inverse, nb_pts_per_voxel= np.unique(((points - np.min(points, axis=0)) // voxel_size).astype(int), axis=0, return_inverse=True, return_counts=True)\n",
    "    idx_pts_vox_sorted=np.argsort(inverse)\n",
    "    voxel_grid={}\n",
    "    grid_barycenter,grid_candidate_center=[],[]\n",
    "    last_seen=0\n",
    "\n",
    "    for idx,vox in enumerate(non_empty_voxel_keys):\n",
    "        voxel_grid[tuple(vox)]=points[idx_pts_vox_sorted[last_seen:last_seen+nb_pts_per_voxel[idx]]]\n",
    "        grid_barycenter.append(np.mean(voxel_grid[tuple(vox)],axis=0))\n",
    "        grid_candidate_center.append(voxel_grid[tuple(vox)][np.linalg.norm(voxel_grid[tuple(vox)]-np.mean(voxel_grid[tuple(vox)],axis=0),axis=1).argmin()])\n",
    "        last_seen+=nb_pts_per_voxel[idx]\n",
    "\n",
    "    return grid_candidate_center\n",
    "grid_sampled_point_cloud_variable = grid_subsampling(point_cloud, 0.05)\n",
    "pcd_0 = o3d.geometry.PointCloud()\n",
    "pcd_0.points = o3d.utility.Vector3dVector(grid_sampled_point_cloud_variable)\n",
    "o3d.visualization.draw_geometries([pcd_0])\n",
    "'''"
   ]
  },
  {
   "cell_type": "code",
   "execution_count": 8,
   "id": "ada37d9e",
   "metadata": {},
   "outputs": [
    {
     "data": {
      "text/plain": [
       "'\\ntree = KDTree(np.asarray(pcd_0.points), leafsize = 100)\\npoint = point_cloud[0]  \\n# Recover the k closest points of out reference point\\ndist_to_neighbors, neighbor_indices = tree.query(point, 10000)\\nneighborhoods = point_cloud[neighbor_indices]\\npcd_neighborhoods_0 = o3d.geometry.PointCloud()\\npcd_neighborhoods_0.points = o3d.utility.Vector3dVector(neighborhoods)\\no3d.visualization.draw_geometries([pcd_neighborhoods_0])\\n'"
      ]
     },
     "execution_count": 8,
     "metadata": {},
     "output_type": "execute_result"
    }
   ],
   "source": [
    "'''\n",
    "tree = KDTree(np.asarray(pcd_0.points), leafsize = 100)\n",
    "point = point_cloud[0]  \n",
    "# Recover the k closest points of out reference point\n",
    "dist_to_neighbors, neighbor_indices = tree.query(point, 10000)\n",
    "neighborhoods = point_cloud[neighbor_indices]\n",
    "pcd_neighborhoods_0 = o3d.geometry.PointCloud()\n",
    "pcd_neighborhoods_0.points = o3d.utility.Vector3dVector(neighborhoods)\n",
    "o3d.visualization.draw_geometries([pcd_neighborhoods_0])\n",
    "'''"
   ]
  },
  {
   "cell_type": "code",
   "execution_count": 9,
   "id": "92169c4c",
   "metadata": {},
   "outputs": [
    {
     "data": {
      "text/plain": [
       "'\\ndef display_inlier_outlier(cloud, ind):\\n    inlier_cloud = cloud.select_by_index(ind)\\n    outlier_cloud = cloud.select_by_index(ind, invert=True)\\n\\n    print(\"Showing outliers (red) and inliers (gray): \")\\n    outlier_cloud.paint_uniform_color([1, 0, 0])\\n    inlier_cloud.paint_uniform_color([0.8, 0.8, 0.8])\\n    o3d.visualization.draw_geometries([inlier_cloud, outlier_cloud])\\n\\nvoxel_down_pcd = pcd.voxel_down_sample(voxel_size=0.02)\\nprint(\"Statistical oulier removal\")\\ncl, ind = voxel_down_pcd.remove_radius_outlier(nb_points=10, radius=0.05)\\ndisplay_inlier_outlier(voxel_down_pcd, ind)\\n'"
      ]
     },
     "execution_count": 9,
     "metadata": {},
     "output_type": "execute_result"
    }
   ],
   "source": [
    "'''\n",
    "def display_inlier_outlier(cloud, ind):\n",
    "    inlier_cloud = cloud.select_by_index(ind)\n",
    "    outlier_cloud = cloud.select_by_index(ind, invert=True)\n",
    "\n",
    "    print(\"Showing outliers (red) and inliers (gray): \")\n",
    "    outlier_cloud.paint_uniform_color([1, 0, 0])\n",
    "    inlier_cloud.paint_uniform_color([0.8, 0.8, 0.8])\n",
    "    o3d.visualization.draw_geometries([inlier_cloud, outlier_cloud])\n",
    "\n",
    "voxel_down_pcd = pcd.voxel_down_sample(voxel_size=0.02)\n",
    "print(\"Statistical oulier removal\")\n",
    "cl, ind = voxel_down_pcd.remove_radius_outlier(nb_points=10, radius=0.05)\n",
    "display_inlier_outlier(voxel_down_pcd, ind)\n",
    "'''"
   ]
  },
  {
   "cell_type": "code",
   "execution_count": 10,
   "id": "24c744ee",
   "metadata": {},
   "outputs": [
    {
     "data": {
      "text/plain": [
       "PointCloud with 741245 points."
      ]
     },
     "execution_count": 10,
     "metadata": {},
     "output_type": "execute_result"
    }
   ],
   "source": [
    "pcd.estimate_normals(search_param=o3d.geometry.KDTreeSearchParamHybrid(radius=0.1, max_nn=16), fast_normal_computation=True)\n",
    "pcd.paint_uniform_color([0.6, 0.6, 0.6])"
   ]
  },
  {
   "cell_type": "code",
   "execution_count": 11,
   "id": "b42abc5c",
   "metadata": {},
   "outputs": [
    {
     "name": "stdout",
     "output_type": "stream",
     "text": [
      "Plane equation: 0.00x + 0.00y + 1.00z + -3.28 = 0\n"
     ]
    },
    {
     "data": {
      "text/plain": [
       "PointCloud with 169586 points."
      ]
     },
     "execution_count": 11,
     "metadata": {},
     "output_type": "execute_result"
    }
   ],
   "source": [
    "plane_model, inliers = pcd.segment_plane(distance_threshold=0.2, ransac_n=2000, num_iterations=5000)\n",
    "[a, b, c, d] = plane_model\n",
    "print(f\"Plane equation: {a:.2f}x + {b:.2f}y + {c:.2f}z + {d:.2f} = 0\")\n",
    "inlier_cloud = pcd.select_by_index(inliers)\n",
    "outlier_cloud = pcd.select_by_index(inliers, invert=True)\n",
    "inlier_cloud.paint_uniform_color([1.0, 0, 0])\n",
    "outlier_cloud.paint_uniform_color([0.6, 0.6, 0.6])"
   ]
  },
  {
   "cell_type": "code",
   "execution_count": 12,
   "id": "3af8ab8a",
   "metadata": {},
   "outputs": [],
   "source": [
    "labels = np.array(pcd.cluster_dbscan(eps=0.05, min_points=10))\n",
    "max_label = labels.max()\n",
    "colors = plt.get_cmap(\"tab20\")(labels / (max_label if max_label > 0 else 1))\n",
    "colors[labels < 0] = 0\n",
    "pcd.colors = o3d.utility.Vector3dVector(colors[:, :3])\n",
    "#o3d.visualization.draw_geometries([pcd])"
   ]
  },
  {
   "cell_type": "code",
   "execution_count": 13,
   "id": "eac380f4",
   "metadata": {},
   "outputs": [],
   "source": [
    "#o3d.visualization.draw_geometries([inlier_cloud, outlier_cloud])"
   ]
  },
  {
   "cell_type": "code",
   "execution_count": 14,
   "id": "07b1b716",
   "metadata": {},
   "outputs": [],
   "source": [
    "#o3d.visualization.draw_geometries([outlier_cloud])"
   ]
  },
  {
   "cell_type": "code",
   "execution_count": 15,
   "id": "aba38545",
   "metadata": {},
   "outputs": [
    {
     "name": "stdout",
     "output_type": "stream",
     "text": [
      "Plane equation: 0.00x + 0.00y + 1.00z + -3.28 = 0\n"
     ]
    },
    {
     "data": {
      "text/plain": [
       "PointCloud with 63861 points."
      ]
     },
     "execution_count": 15,
     "metadata": {},
     "output_type": "execute_result"
    }
   ],
   "source": [
    "plane_model_1, inliers_1 = outlier_cloud.segment_plane(distance_threshold=0.2, ransac_n=2000, num_iterations=5000)\n",
    "[a, b, c, d] = plane_model\n",
    "print(f\"Plane equation: {a:.2f}x + {b:.2f}y + {c:.2f}z + {d:.2f} = 0\")\n",
    "inlier_cloud_1 = outlier_cloud.select_by_index(inliers_1)\n",
    "outlier_cloud_1 = outlier_cloud.select_by_index(inliers_1, invert=True)\n",
    "inlier_cloud_1.paint_uniform_color([1.0, 0, 0])\n",
    "outlier_cloud_1.paint_uniform_color([0.6, 0.6, 0.6])"
   ]
  },
  {
   "cell_type": "code",
   "execution_count": 16,
   "id": "807222d8",
   "metadata": {},
   "outputs": [],
   "source": [
    "#o3d.visualization.draw_geometries([inlier_cloud_1, outlier_cloud_1])"
   ]
  },
  {
   "cell_type": "code",
   "execution_count": 17,
   "id": "46d24c06",
   "metadata": {},
   "outputs": [],
   "source": [
    "#o3d.visualization.draw_geometries([outlier_cloud_1])"
   ]
  },
  {
   "cell_type": "code",
   "execution_count": 18,
   "id": "9bdc6ed5",
   "metadata": {},
   "outputs": [
    {
     "name": "stdout",
     "output_type": "stream",
     "text": [
      "point cloud has 77 clusters\n"
     ]
    }
   ],
   "source": [
    "labels = np.array(outlier_cloud_1.cluster_dbscan(eps=0.05, min_points=20))\n",
    "max_label = labels.max()\n",
    "print(f\"point cloud has {max_label + 1} clusters\")\n",
    "\n",
    "colors = plt.get_cmap(\"tab20\")(labels / (max_label if max_label > 0 else 1))\n",
    "colors[labels < 0] = 0\n",
    "outlier_cloud_1.colors = o3d.utility.Vector3dVector(colors[:, :3])\n",
    "\n",
    "#o3d.visualization.draw_geometries([outlier_cloud_1])"
   ]
  },
  {
   "cell_type": "code",
   "execution_count": 19,
   "id": "7f0822f4",
   "metadata": {},
   "outputs": [
    {
     "data": {
      "text/plain": [
       "'\\ndata_mean = np.mean(point_cloud, axis=0) #Calculate the average value of the column\\n# Normalized \\nnormalize_data = point_cloud - data_mean\\npcd_norma = o3d.geometry.PointCloud()\\npcd_norma.points = o3d.utility.Vector3dVector(normalize_data)\\no3d.visualization.draw_geometries([pcd_norma])\\n'"
      ]
     },
     "execution_count": 19,
     "metadata": {},
     "output_type": "execute_result"
    }
   ],
   "source": [
    "'''\n",
    "data_mean = np.mean(point_cloud, axis=0) #Calculate the average value of the column\n",
    "# Normalized \n",
    "normalize_data = point_cloud - data_mean\n",
    "pcd_norma = o3d.geometry.PointCloud()\n",
    "pcd_norma.points = o3d.utility.Vector3dVector(normalize_data)\n",
    "o3d.visualization.draw_geometries([pcd_norma])\n",
    "'''"
   ]
  },
  {
   "cell_type": "code",
   "execution_count": null,
   "id": "2e0ebeb9",
   "metadata": {},
   "outputs": [],
   "source": []
  },
  {
   "cell_type": "code",
   "execution_count": null,
   "id": "e8d201a1",
   "metadata": {},
   "outputs": [],
   "source": []
  },
  {
   "cell_type": "code",
   "execution_count": null,
   "id": "f4ae503e",
   "metadata": {},
   "outputs": [],
   "source": []
  },
  {
   "cell_type": "code",
   "execution_count": null,
   "id": "40e1f45a",
   "metadata": {},
   "outputs": [],
   "source": []
  },
  {
   "cell_type": "code",
   "execution_count": null,
   "id": "ab84c886",
   "metadata": {},
   "outputs": [],
   "source": []
  },
  {
   "cell_type": "code",
   "execution_count": null,
   "id": "f6160640",
   "metadata": {},
   "outputs": [],
   "source": []
  },
  {
   "cell_type": "code",
   "execution_count": null,
   "id": "8a0ae63d",
   "metadata": {},
   "outputs": [],
   "source": []
  },
  {
   "cell_type": "code",
   "execution_count": null,
   "id": "e66dd7f4",
   "metadata": {},
   "outputs": [],
   "source": []
  }
 ],
 "metadata": {
  "kernelspec": {
   "display_name": "Python 3",
   "language": "python",
   "name": "python3"
  },
  "language_info": {
   "codemirror_mode": {
    "name": "ipython",
    "version": 3
   },
   "file_extension": ".py",
   "mimetype": "text/x-python",
   "name": "python",
   "nbconvert_exporter": "python",
   "pygments_lexer": "ipython3",
   "version": "3.8.8"
  }
 },
 "nbformat": 4,
 "nbformat_minor": 5
}
